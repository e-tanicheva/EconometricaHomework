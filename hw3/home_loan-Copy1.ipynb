{
 "cells": [
  {
   "cell_type": "markdown",
   "id": "b70ca3b3",
   "metadata": {},
   "source": [
    "# Таничева Екатерина 2МЭО-1"
   ]
  },
  {
   "cell_type": "markdown",
   "id": "f716810d",
   "metadata": {},
   "source": [
    "# Экономический анализ датасета Home loan"
   ]
  },
  {
   "cell_type": "markdown",
   "id": "cddb0f9a",
   "metadata": {},
   "source": [
    "$\\underline{Содержание}$"
   ]
  },
  {
   "cell_type": "markdown",
   "id": "ed931511",
   "metadata": {},
   "source": [
    " $\\bigcirc $ $\\textit{Описание данных}$"
   ]
  },
  {
   "cell_type": "markdown",
   "id": "fda7bb63",
   "metadata": {},
   "source": [
    " $\\bigcirc $ $\\textit{Спецификация модели}$"
   ]
  },
  {
   "cell_type": "markdown",
   "id": "df1d75ca",
   "metadata": {},
   "source": [
    "$\\bigcirc $ $\\textit{Основные параметры регрессии, коэффициент детерминации и стандартная ошибка регрессии}$"
   ]
  },
  {
   "cell_type": "markdown",
   "id": "d5891512",
   "metadata": {},
   "source": [
    " $\\bigcirc $ $\\textit{Интерпретация коэффициентов}$"
   ]
  },
  {
   "cell_type": "markdown",
   "id": "4b3b8aa9",
   "metadata": {},
   "source": [
    " $\\bigcirc $ $\\textit{Визуализация данных}$"
   ]
  },
  {
   "cell_type": "markdown",
   "id": "dc066fd2",
   "metadata": {},
   "source": [
    " $\\bigcirc $ $\\textit{Построение доверительных интервалов и определение значимых переменных}$"
   ]
  },
  {
   "cell_type": "markdown",
   "id": "0196fdcf",
   "metadata": {},
   "source": [
    "$\\bigcirc $ $\\textit{Оценка небинарной переменной}$"
   ]
  },
  {
   "cell_type": "markdown",
   "id": "8b9cd439",
   "metadata": {},
   "source": [
    " $\\bigcirc $ $\\textit{Оценка регрессии на наличие мультиколлинеарности}$"
   ]
  },
  {
   "cell_type": "markdown",
   "id": "160b92b4",
   "metadata": {},
   "source": [
    " $\\bigcirc $ $\\textit{Аналих модели на наличие гетероскедастичности}$"
   ]
  },
  {
   "cell_type": "markdown",
   "id": "d3e458bd",
   "metadata": {},
   "source": [
    "$\\bigcirc $ $\\textit{Анализ модели на автокорреляцию ( с помощью теста Дарбина-Уотсона)}$"
   ]
  },
  {
   "cell_type": "code",
   "execution_count": 89,
   "id": "8c01d033",
   "metadata": {},
   "outputs": [],
   "source": [
    "import pandas as pd\n",
    "import numpy as np\n",
    "import statsmodels.api as sm \n",
    "import statsmodels.formula.api as smf\n",
    "import scipy\n",
    "import matplotlib.pyplot as plt\n",
    "import seaborn as sns\n",
    "import re\n",
    "import io\n",
    "import scipy.stats as stats\n",
    "from statsmodels.iolib.summary2 import summary_params # вывод результатов тестирования\n",
    "from statsmodels.iolib.summary2 import summary_col # вывод результатов тестирования\n",
    "from statsmodels.stats.outliers_influence import variance_inflation_factor # VIF\n",
    "from statsmodels.stats.diagnostic import het_breuschpagan\n",
    "from statsmodels.compat import lzip"
   ]
  },
  {
   "cell_type": "markdown",
   "id": "cac385fc",
   "metadata": {},
   "source": [
    "# Описание данных"
   ]
  },
  {
   "cell_type": "code",
   "execution_count": 120,
   "id": "63322f93",
   "metadata": {},
   "outputs": [
    {
     "data": {
      "text/html": [
       "<div>\n",
       "<style scoped>\n",
       "    .dataframe tbody tr th:only-of-type {\n",
       "        vertical-align: middle;\n",
       "    }\n",
       "\n",
       "    .dataframe tbody tr th {\n",
       "        vertical-align: top;\n",
       "    }\n",
       "\n",
       "    .dataframe thead th {\n",
       "        text-align: right;\n",
       "    }\n",
       "</style>\n",
       "<table border=\"1\" class=\"dataframe\">\n",
       "  <thead>\n",
       "    <tr style=\"text-align: right;\">\n",
       "      <th></th>\n",
       "      <th>Loan_ID</th>\n",
       "      <th>Gender</th>\n",
       "      <th>Married</th>\n",
       "      <th>Dependents</th>\n",
       "      <th>Education</th>\n",
       "      <th>Self_Employed</th>\n",
       "      <th>ApplicantIncome</th>\n",
       "      <th>CoapplicantIncome</th>\n",
       "      <th>LoanAmount</th>\n",
       "      <th>Loan_Amount_Term</th>\n",
       "      <th>Credit_History</th>\n",
       "      <th>Property_Area</th>\n",
       "    </tr>\n",
       "  </thead>\n",
       "  <tbody>\n",
       "    <tr>\n",
       "      <th>0</th>\n",
       "      <td>LP001015</td>\n",
       "      <td>Male</td>\n",
       "      <td>Yes</td>\n",
       "      <td>0</td>\n",
       "      <td>Graduate</td>\n",
       "      <td>No</td>\n",
       "      <td>5720</td>\n",
       "      <td>0</td>\n",
       "      <td>110.0</td>\n",
       "      <td>360.0</td>\n",
       "      <td>1.0</td>\n",
       "      <td>Urban</td>\n",
       "    </tr>\n",
       "    <tr>\n",
       "      <th>1</th>\n",
       "      <td>LP001022</td>\n",
       "      <td>Male</td>\n",
       "      <td>Yes</td>\n",
       "      <td>1</td>\n",
       "      <td>Graduate</td>\n",
       "      <td>No</td>\n",
       "      <td>3076</td>\n",
       "      <td>1500</td>\n",
       "      <td>126.0</td>\n",
       "      <td>360.0</td>\n",
       "      <td>1.0</td>\n",
       "      <td>Urban</td>\n",
       "    </tr>\n",
       "    <tr>\n",
       "      <th>2</th>\n",
       "      <td>LP001031</td>\n",
       "      <td>Male</td>\n",
       "      <td>Yes</td>\n",
       "      <td>2</td>\n",
       "      <td>Graduate</td>\n",
       "      <td>No</td>\n",
       "      <td>5000</td>\n",
       "      <td>1800</td>\n",
       "      <td>208.0</td>\n",
       "      <td>360.0</td>\n",
       "      <td>1.0</td>\n",
       "      <td>Urban</td>\n",
       "    </tr>\n",
       "    <tr>\n",
       "      <th>3</th>\n",
       "      <td>LP001035</td>\n",
       "      <td>Male</td>\n",
       "      <td>Yes</td>\n",
       "      <td>2</td>\n",
       "      <td>Graduate</td>\n",
       "      <td>No</td>\n",
       "      <td>2340</td>\n",
       "      <td>2546</td>\n",
       "      <td>100.0</td>\n",
       "      <td>360.0</td>\n",
       "      <td>NaN</td>\n",
       "      <td>Urban</td>\n",
       "    </tr>\n",
       "    <tr>\n",
       "      <th>4</th>\n",
       "      <td>LP001051</td>\n",
       "      <td>Male</td>\n",
       "      <td>No</td>\n",
       "      <td>0</td>\n",
       "      <td>Not Graduate</td>\n",
       "      <td>No</td>\n",
       "      <td>3276</td>\n",
       "      <td>0</td>\n",
       "      <td>78.0</td>\n",
       "      <td>360.0</td>\n",
       "      <td>1.0</td>\n",
       "      <td>Urban</td>\n",
       "    </tr>\n",
       "    <tr>\n",
       "      <th>...</th>\n",
       "      <td>...</td>\n",
       "      <td>...</td>\n",
       "      <td>...</td>\n",
       "      <td>...</td>\n",
       "      <td>...</td>\n",
       "      <td>...</td>\n",
       "      <td>...</td>\n",
       "      <td>...</td>\n",
       "      <td>...</td>\n",
       "      <td>...</td>\n",
       "      <td>...</td>\n",
       "      <td>...</td>\n",
       "    </tr>\n",
       "    <tr>\n",
       "      <th>362</th>\n",
       "      <td>LP002971</td>\n",
       "      <td>Male</td>\n",
       "      <td>Yes</td>\n",
       "      <td>3+</td>\n",
       "      <td>Not Graduate</td>\n",
       "      <td>Yes</td>\n",
       "      <td>4009</td>\n",
       "      <td>1777</td>\n",
       "      <td>113.0</td>\n",
       "      <td>360.0</td>\n",
       "      <td>1.0</td>\n",
       "      <td>Urban</td>\n",
       "    </tr>\n",
       "    <tr>\n",
       "      <th>363</th>\n",
       "      <td>LP002975</td>\n",
       "      <td>Male</td>\n",
       "      <td>Yes</td>\n",
       "      <td>0</td>\n",
       "      <td>Graduate</td>\n",
       "      <td>No</td>\n",
       "      <td>4158</td>\n",
       "      <td>709</td>\n",
       "      <td>115.0</td>\n",
       "      <td>360.0</td>\n",
       "      <td>1.0</td>\n",
       "      <td>Urban</td>\n",
       "    </tr>\n",
       "    <tr>\n",
       "      <th>364</th>\n",
       "      <td>LP002980</td>\n",
       "      <td>Male</td>\n",
       "      <td>No</td>\n",
       "      <td>0</td>\n",
       "      <td>Graduate</td>\n",
       "      <td>No</td>\n",
       "      <td>3250</td>\n",
       "      <td>1993</td>\n",
       "      <td>126.0</td>\n",
       "      <td>360.0</td>\n",
       "      <td>NaN</td>\n",
       "      <td>Semiurban</td>\n",
       "    </tr>\n",
       "    <tr>\n",
       "      <th>365</th>\n",
       "      <td>LP002986</td>\n",
       "      <td>Male</td>\n",
       "      <td>Yes</td>\n",
       "      <td>0</td>\n",
       "      <td>Graduate</td>\n",
       "      <td>No</td>\n",
       "      <td>5000</td>\n",
       "      <td>2393</td>\n",
       "      <td>158.0</td>\n",
       "      <td>360.0</td>\n",
       "      <td>1.0</td>\n",
       "      <td>Rural</td>\n",
       "    </tr>\n",
       "    <tr>\n",
       "      <th>366</th>\n",
       "      <td>LP002989</td>\n",
       "      <td>Male</td>\n",
       "      <td>No</td>\n",
       "      <td>0</td>\n",
       "      <td>Graduate</td>\n",
       "      <td>Yes</td>\n",
       "      <td>9200</td>\n",
       "      <td>0</td>\n",
       "      <td>98.0</td>\n",
       "      <td>180.0</td>\n",
       "      <td>1.0</td>\n",
       "      <td>Rural</td>\n",
       "    </tr>\n",
       "  </tbody>\n",
       "</table>\n",
       "<p>367 rows × 12 columns</p>\n",
       "</div>"
      ],
      "text/plain": [
       "      Loan_ID Gender Married Dependents     Education Self_Employed  \\\n",
       "0    LP001015   Male     Yes          0      Graduate            No   \n",
       "1    LP001022   Male     Yes          1      Graduate            No   \n",
       "2    LP001031   Male     Yes          2      Graduate            No   \n",
       "3    LP001035   Male     Yes          2      Graduate            No   \n",
       "4    LP001051   Male      No          0  Not Graduate            No   \n",
       "..        ...    ...     ...        ...           ...           ...   \n",
       "362  LP002971   Male     Yes         3+  Not Graduate           Yes   \n",
       "363  LP002975   Male     Yes          0      Graduate            No   \n",
       "364  LP002980   Male      No          0      Graduate            No   \n",
       "365  LP002986   Male     Yes          0      Graduate            No   \n",
       "366  LP002989   Male      No          0      Graduate           Yes   \n",
       "\n",
       "     ApplicantIncome  CoapplicantIncome  LoanAmount  Loan_Amount_Term  \\\n",
       "0               5720                  0       110.0             360.0   \n",
       "1               3076               1500       126.0             360.0   \n",
       "2               5000               1800       208.0             360.0   \n",
       "3               2340               2546       100.0             360.0   \n",
       "4               3276                  0        78.0             360.0   \n",
       "..               ...                ...         ...               ...   \n",
       "362             4009               1777       113.0             360.0   \n",
       "363             4158                709       115.0             360.0   \n",
       "364             3250               1993       126.0             360.0   \n",
       "365             5000               2393       158.0             360.0   \n",
       "366             9200                  0        98.0             180.0   \n",
       "\n",
       "     Credit_History Property_Area  \n",
       "0               1.0         Urban  \n",
       "1               1.0         Urban  \n",
       "2               1.0         Urban  \n",
       "3               NaN         Urban  \n",
       "4               1.0         Urban  \n",
       "..              ...           ...  \n",
       "362             1.0         Urban  \n",
       "363             1.0         Urban  \n",
       "364             NaN     Semiurban  \n",
       "365             1.0         Rural  \n",
       "366             1.0         Rural  \n",
       "\n",
       "[367 rows x 12 columns]"
      ]
     },
     "execution_count": 120,
     "metadata": {},
     "output_type": "execute_result"
    }
   ],
   "source": [
    "df = pd.read_csv('https://raw.githubusercontent.com/EMR-Python/emr-hw-e-tanicheva/main/%D0%90%D0%BD%D0%B0%D0%BB%D0%B8%D0%B7/home_loan.csv?token=GHSAT0AAAAAACAJVQ2ZJPB7XUZPZTD6EEVSZC2JEQQ')\n",
    "df"
   ]
  },
  {
   "cell_type": "markdown",
   "id": "35f72a50",
   "metadata": {},
   "source": [
    "## Данный датасет содержит данные о клиентах, получивших ипотечный кредит в компании Dream Housing Finance.  Он состоит из следующих показателей:"
   ]
  },
  {
   "cell_type": "markdown",
   "id": "e51877df",
   "metadata": {},
   "source": [
    "##### 1. $\\textit{Loan_ID}$ - данные, используемые для идентификации конкретного кредита"
   ]
  },
  {
   "cell_type": "markdown",
   "id": "2f38a882",
   "metadata": {},
   "source": [
    "##### 2. $\\textit{Gender}$ - пол клиента"
   ]
  },
  {
   "cell_type": "markdown",
   "id": "2708bac2",
   "metadata": {},
   "source": [
    "##### 3. $\\textit{Married}$ - семейный статус (женат/замужем)"
   ]
  },
  {
   "cell_type": "markdown",
   "id": "2d603318",
   "metadata": {},
   "source": [
    "##### 4. $\\textit{Dependents}$ - количество иждивенцев"
   ]
  },
  {
   "cell_type": "markdown",
   "id": "82ced0ab",
   "metadata": {},
   "source": [
    "##### 5. $\\textit{Education}$ - образование (получено/не окончено)"
   ]
  },
  {
   "cell_type": "markdown",
   "id": "1baa1ce3",
   "metadata": {},
   "source": [
    "##### 6. $\\textit{Self_Employed}$ - самозанятый (да/нет)"
   ]
  },
  {
   "cell_type": "markdown",
   "id": "ff9a8cbb",
   "metadata": {},
   "source": [
    "##### 7. $\\textit{ApplicantIncome}$ - доход заявителя"
   ]
  },
  {
   "cell_type": "markdown",
   "id": "aaf07c36",
   "metadata": {},
   "source": [
    "##### 8. $\\textit{CoapplicantIncome}$ - доход созаемщика\n"
   ]
  },
  {
   "cell_type": "markdown",
   "id": "a0697770",
   "metadata": {},
   "source": [
    "##### 9. $\\textit{LoanAmount}$ - сумма кредита"
   ]
  },
  {
   "cell_type": "markdown",
   "id": "b17c3038",
   "metadata": {},
   "source": [
    "##### 10. $\\textit{Loan_Amount_Term}$ - срок займа"
   ]
  },
  {
   "cell_type": "markdown",
   "id": "1f25d66c",
   "metadata": {},
   "source": [
    "##### 11. $\\textit{Credit_History}$ - кредитная история (1-если был кредит, 0-если нет)"
   ]
  },
  {
   "cell_type": "markdown",
   "id": "a033025c",
   "metadata": {},
   "source": [
    "##### 12. $\\textit{Property_Area}$ - территория собственности"
   ]
  },
  {
   "cell_type": "code",
   "execution_count": 121,
   "id": "7c721691",
   "metadata": {},
   "outputs": [
    {
     "name": "stdout",
     "output_type": "stream",
     "text": [
      "       ApplicantIncome  CoapplicantIncome  LoanAmount  Loan_Amount_Term  \\\n",
      "count       367.000000         367.000000  362.000000        361.000000   \n",
      "mean       4805.599455        1569.577657  136.132597        342.537396   \n",
      "std        4910.685399        2334.232099   61.366652         65.156643   \n",
      "min           0.000000           0.000000   28.000000          6.000000   \n",
      "25%        2864.000000           0.000000  100.250000        360.000000   \n",
      "50%        3786.000000        1025.000000  125.000000        360.000000   \n",
      "75%        5060.000000        2430.500000  158.000000        360.000000   \n",
      "max       72529.000000       24000.000000  550.000000        480.000000   \n",
      "\n",
      "       Credit_History  \n",
      "count      338.000000  \n",
      "mean         0.825444  \n",
      "std          0.380150  \n",
      "min          0.000000  \n",
      "25%          1.000000  \n",
      "50%          1.000000  \n",
      "75%          1.000000  \n",
      "max          1.000000  \n"
     ]
    }
   ],
   "source": [
    "statistics = df.describe()\n",
    "print(statistics)"
   ]
  },
  {
   "cell_type": "code",
   "execution_count": 122,
   "id": "c04a3e2e",
   "metadata": {},
   "outputs": [
    {
     "name": "stdout",
     "output_type": "stream",
     "text": [
      "Male      286\n",
      "Female     70\n",
      "Name: Gender, dtype: int64\n"
     ]
    }
   ],
   "source": [
    "Gender_stats = df['Gender'].value_counts()\n",
    "print(Gender_stats)"
   ]
  },
  {
   "cell_type": "code",
   "execution_count": 123,
   "id": "e38b95df",
   "metadata": {},
   "outputs": [
    {
     "name": "stdout",
     "output_type": "stream",
     "text": [
      "Yes    233\n",
      "No     134\n",
      "Name: Married, dtype: int64\n"
     ]
    }
   ],
   "source": [
    "Married_stats = df['Married'].value_counts()\n",
    "print(Married_stats)"
   ]
  },
  {
   "cell_type": "code",
   "execution_count": 124,
   "id": "929a61a1",
   "metadata": {},
   "outputs": [
    {
     "name": "stdout",
     "output_type": "stream",
     "text": [
      "0     200\n",
      "2      59\n",
      "1      58\n",
      "3+     40\n",
      "Name: Dependents, dtype: int64\n"
     ]
    }
   ],
   "source": [
    "Dependents_stats = df['Dependents'].value_counts()\n",
    "print(Dependents_stats)"
   ]
  },
  {
   "cell_type": "code",
   "execution_count": 125,
   "id": "a3ff1b70",
   "metadata": {},
   "outputs": [
    {
     "name": "stdout",
     "output_type": "stream",
     "text": [
      "Graduate        283\n",
      "Not Graduate     84\n",
      "Name: Education, dtype: int64\n"
     ]
    }
   ],
   "source": [
    "Education_stats = df['Education'].value_counts()\n",
    "print(Education_stats)"
   ]
  },
  {
   "cell_type": "code",
   "execution_count": 126,
   "id": "18b7723b",
   "metadata": {},
   "outputs": [
    {
     "name": "stdout",
     "output_type": "stream",
     "text": [
      "No     307\n",
      "Yes     37\n",
      "Name: Self_Employed, dtype: int64\n"
     ]
    }
   ],
   "source": [
    "Self_Employed_stats = df['Self_Employed'].value_counts()\n",
    "print(Self_Employed_stats)"
   ]
  },
  {
   "cell_type": "code",
   "execution_count": 127,
   "id": "265c58dc",
   "metadata": {},
   "outputs": [
    {
     "name": "stdout",
     "output_type": "stream",
     "text": [
      "Urban        140\n",
      "Semiurban    116\n",
      "Rural        111\n",
      "Name: Property_Area, dtype: int64\n"
     ]
    }
   ],
   "source": [
    "Property_Area_stats = df['Property_Area'].value_counts()\n",
    "print(Property_Area_stats)"
   ]
  },
  {
   "cell_type": "markdown",
   "id": "dd6d581c",
   "metadata": {},
   "source": [
    "### Исходя из полученных данных, можно сделать следующие выводы"
   ]
  },
  {
   "cell_type": "markdown",
   "id": "6c31c700",
   "metadata": {},
   "source": [
    "#### Пол:"
   ]
  },
  {
   "cell_type": "markdown",
   "id": "0b6e91cd",
   "metadata": {},
   "source": [
    "$\\triangleright$  $\\textit{В выборке присутствует гендерный дисбаланс, количество мужчин (286), взявших кредит, превышает количество женщин(70)};$"
   ]
  },
  {
   "cell_type": "markdown",
   "id": "b3a7412a",
   "metadata": {},
   "source": [
    "$\\triangleright$  $\\textit{Вывод: мужчины более склонны к тому, чтобы взять ипотечный кредит};$"
   ]
  },
  {
   "cell_type": "markdown",
   "id": "b6635719",
   "metadata": {},
   "source": [
    "#### Семейное положение:"
   ]
  },
  {
   "cell_type": "markdown",
   "id": "bbe8a624",
   "metadata": {},
   "source": [
    "$\\triangleright$  $\\textit{Большинство клиентов являются замужними/женатыми (233 из 367)};$"
   ]
  },
  {
   "cell_type": "markdown",
   "id": "3bdaf8f8",
   "metadata": {},
   "source": [
    "$\\triangleright$  $\\textit{Вывод:замужние/женатые люди вероятнее всего возьмт ипотечный кредит на жилье};$"
   ]
  },
  {
   "cell_type": "markdown",
   "id": "6c3ae2ff",
   "metadata": {},
   "source": [
    "#### Наличие  иждивенцев:"
   ]
  },
  {
   "cell_type": "markdown",
   "id": "3cd9b4c1",
   "metadata": {},
   "source": [
    "$\\triangleright$ $\\textit{У большинства клиентов(200) отсутствуют иждивенцы (несовершеннолетние дети, родители/супруги нетрудоспособного возвраста) или же присутствует 1,2 (59,58)};$"
   ]
  },
  {
   "cell_type": "markdown",
   "id": "6763547c",
   "metadata": {},
   "source": [
    "$\\triangleright$  $\\textit{Вывод: люди, необремененные содержанием иждивенцев, чаще берут ипотечный кредит};$"
   ]
  },
  {
   "cell_type": "markdown",
   "id": "b1e2c1e3",
   "metadata": {},
   "source": [
    "#### Образование:"
   ]
  },
  {
   "cell_type": "markdown",
   "id": "95b7ff6e",
   "metadata": {},
   "source": [
    "$\\triangleright$  $\\textit{Большинство клиентов, взявших ипотеку - образованные люди(283 к 84)};$"
   ]
  },
  {
   "cell_type": "markdown",
   "id": "f5a1892d",
   "metadata": {},
   "source": [
    "#### Самозанятость:"
   ]
  },
  {
   "cell_type": "markdown",
   "id": "333282b4",
   "metadata": {},
   "source": [
    "$\\triangleright$  $\\textit{Большинство клиентов имеют стабильную работу и не являются самозанятыми(307 из 367)};$"
   ]
  },
  {
   "cell_type": "markdown",
   "id": "839091bc",
   "metadata": {},
   "source": [
    "#### Доход заявителя:"
   ]
  },
  {
   "cell_type": "markdown",
   "id": "25ff0349",
   "metadata": {},
   "source": [
    "$\\triangleright$  $\\textit{Средний доход заявителя составляет примерно 4805.6, при этом значение медианы - 3786.0};$"
   ]
  },
  {
   "cell_type": "markdown",
   "id": "66b765a9",
   "metadata": {},
   "source": [
    "$\\triangleright$  $\\textit{Максимальное значение дохода заявителя составляет 72529.0};$"
   ]
  },
  {
   "cell_type": "markdown",
   "id": "8fc56bbe",
   "metadata": {},
   "source": [
    "$\\triangleright$  $\\textit{Стандартное отклонение составляет 4910.6};$"
   ]
  },
  {
   "cell_type": "markdown",
   "id": "0e77153f",
   "metadata": {},
   "source": [
    "#### Сумма кредита:"
   ]
  },
  {
   "cell_type": "markdown",
   "id": "044b765c",
   "metadata": {},
   "source": [
    "$\\triangleright$  $\\textit{Средняя сумма кредита составляет примерно  136.13};$"
   ]
  },
  {
   "cell_type": "markdown",
   "id": "63cbe4b3",
   "metadata": {},
   "source": [
    "$\\triangleright$  $\\textit{При этом минимальное значение составляет 18, а максимальное 550};$"
   ]
  },
  {
   "cell_type": "markdown",
   "id": "dc8d06b4",
   "metadata": {},
   "source": [
    "$\\triangleright$  $\\textit{Стандартное отклонение составляет 61.37};$"
   ]
  },
  {
   "cell_type": "markdown",
   "id": "0142f398",
   "metadata": {},
   "source": [
    "#### Территория собственности:"
   ]
  },
  {
   "cell_type": "markdown",
   "id": "cd3fff20",
   "metadata": {},
   "source": [
    "$\\triangleright$  $\\textit{Составляя рейтинг территорий, на которой приобретается собственность: 1) Город(140); 2)Полугородской(116); 3) Сельская местность(111) };$"
   ]
  },
  {
   "cell_type": "markdown",
   "id": "58437acb",
   "metadata": {},
   "source": [
    "# Спецификация модели"
   ]
  },
  {
   "cell_type": "markdown",
   "id": "467b1b7f",
   "metadata": {},
   "source": [
    "$\\textit{Проанализируем влияние дохода заявителя, семейного положения, образования, а также территории собственности на сумму ипотечного кредита:}$"
   ]
  },
  {
   "cell_type": "markdown",
   "id": "0859144d",
   "metadata": {},
   "source": [
    "$ LoanAmount = \\beta_0 + \\beta_1*ApplicantIncome + \\beta_2*Married + \\beta_3*Education +\\beta_4*PropertyArea $"
   ]
  },
  {
   "cell_type": "code",
   "execution_count": 128,
   "id": "f9e4d483",
   "metadata": {},
   "outputs": [
    {
     "data": {
      "text/html": [
       "<table class=\"simpletable\">\n",
       "<caption>OLS Regression Results</caption>\n",
       "<tr>\n",
       "  <th>Dep. Variable:</th>       <td>LoanAmount</td>    <th>  R-squared:         </th> <td>   0.279</td>\n",
       "</tr>\n",
       "<tr>\n",
       "  <th>Model:</th>                   <td>OLS</td>       <th>  Adj. R-squared:    </th> <td>   0.269</td>\n",
       "</tr>\n",
       "<tr>\n",
       "  <th>Method:</th>             <td>Least Squares</td>  <th>  F-statistic:       </th> <td>   27.59</td>\n",
       "</tr>\n",
       "<tr>\n",
       "  <th>Date:</th>             <td>Tue, 09 May 2023</td> <th>  Prob (F-statistic):</th> <td>1.30e-23</td>\n",
       "</tr>\n",
       "<tr>\n",
       "  <th>Time:</th>                 <td>16:26:37</td>     <th>  Log-Likelihood:    </th> <td> -1944.2</td>\n",
       "</tr>\n",
       "<tr>\n",
       "  <th>No. Observations:</th>      <td>   362</td>      <th>  AIC:               </th> <td>   3900.</td>\n",
       "</tr>\n",
       "<tr>\n",
       "  <th>Df Residuals:</th>          <td>   356</td>      <th>  BIC:               </th> <td>   3924.</td>\n",
       "</tr>\n",
       "<tr>\n",
       "  <th>Df Model:</th>              <td>     5</td>      <th>                     </th>     <td> </td>   \n",
       "</tr>\n",
       "<tr>\n",
       "  <th>Covariance Type:</th>      <td>nonrobust</td>    <th>                     </th>     <td> </td>   \n",
       "</tr>\n",
       "</table>\n",
       "<table class=\"simpletable\">\n",
       "<tr>\n",
       "                <td></td>                  <th>coef</th>     <th>std err</th>      <th>t</th>      <th>P>|t|</th>  <th>[0.025</th>    <th>0.975]</th>  \n",
       "</tr>\n",
       "<tr>\n",
       "  <th>Intercept</th>                    <td>  101.4735</td> <td>    6.829</td> <td>   14.860</td> <td> 0.000</td> <td>   88.044</td> <td>  114.903</td>\n",
       "</tr>\n",
       "<tr>\n",
       "  <th>C(Married)[T.Yes]</th>            <td>   20.8921</td> <td>    5.730</td> <td>    3.646</td> <td> 0.000</td> <td>    9.623</td> <td>   32.162</td>\n",
       "</tr>\n",
       "<tr>\n",
       "  <th>C(Education)[T.Not Graduate]</th> <td>  -13.9895</td> <td>    6.647</td> <td>   -2.105</td> <td> 0.036</td> <td>  -27.062</td> <td>   -0.917</td>\n",
       "</tr>\n",
       "<tr>\n",
       "  <th>Property_Area[T.Semiurban]</th>   <td>   -4.7801</td> <td>    7.019</td> <td>   -0.681</td> <td> 0.496</td> <td>  -18.584</td> <td>    9.024</td>\n",
       "</tr>\n",
       "<tr>\n",
       "  <th>Property_Area[T.Urban]</th>       <td>   -5.2293</td> <td>    6.711</td> <td>   -0.779</td> <td> 0.436</td> <td>  -18.428</td> <td>    7.970</td>\n",
       "</tr>\n",
       "<tr>\n",
       "  <th>ApplicantIncome</th>              <td>    0.0059</td> <td>    0.001</td> <td>   10.386</td> <td> 0.000</td> <td>    0.005</td> <td>    0.007</td>\n",
       "</tr>\n",
       "</table>\n",
       "<table class=\"simpletable\">\n",
       "<tr>\n",
       "  <th>Omnibus:</th>       <td>107.090</td> <th>  Durbin-Watson:     </th> <td>   1.841</td> \n",
       "</tr>\n",
       "<tr>\n",
       "  <th>Prob(Omnibus):</th> <td> 0.000</td>  <th>  Jarque-Bera (JB):  </th> <td> 463.863</td> \n",
       "</tr>\n",
       "<tr>\n",
       "  <th>Skew:</th>          <td> 1.207</td>  <th>  Prob(JB):          </th> <td>1.88e-101</td>\n",
       "</tr>\n",
       "<tr>\n",
       "  <th>Kurtosis:</th>      <td> 7.993</td>  <th>  Cond. No.          </th> <td>2.47e+04</td> \n",
       "</tr>\n",
       "</table><br/><br/>Notes:<br/>[1] Standard Errors assume that the covariance matrix of the errors is correctly specified.<br/>[2] The condition number is large, 2.47e+04. This might indicate that there are<br/>strong multicollinearity or other numerical problems."
      ],
      "text/plain": [
       "<class 'statsmodels.iolib.summary.Summary'>\n",
       "\"\"\"\n",
       "                            OLS Regression Results                            \n",
       "==============================================================================\n",
       "Dep. Variable:             LoanAmount   R-squared:                       0.279\n",
       "Model:                            OLS   Adj. R-squared:                  0.269\n",
       "Method:                 Least Squares   F-statistic:                     27.59\n",
       "Date:                Tue, 09 May 2023   Prob (F-statistic):           1.30e-23\n",
       "Time:                        16:26:37   Log-Likelihood:                -1944.2\n",
       "No. Observations:                 362   AIC:                             3900.\n",
       "Df Residuals:                     356   BIC:                             3924.\n",
       "Df Model:                           5                                         \n",
       "Covariance Type:            nonrobust                                         \n",
       "================================================================================================\n",
       "                                   coef    std err          t      P>|t|      [0.025      0.975]\n",
       "------------------------------------------------------------------------------------------------\n",
       "Intercept                      101.4735      6.829     14.860      0.000      88.044     114.903\n",
       "C(Married)[T.Yes]               20.8921      5.730      3.646      0.000       9.623      32.162\n",
       "C(Education)[T.Not Graduate]   -13.9895      6.647     -2.105      0.036     -27.062      -0.917\n",
       "Property_Area[T.Semiurban]      -4.7801      7.019     -0.681      0.496     -18.584       9.024\n",
       "Property_Area[T.Urban]          -5.2293      6.711     -0.779      0.436     -18.428       7.970\n",
       "ApplicantIncome                  0.0059      0.001     10.386      0.000       0.005       0.007\n",
       "==============================================================================\n",
       "Omnibus:                      107.090   Durbin-Watson:                   1.841\n",
       "Prob(Omnibus):                  0.000   Jarque-Bera (JB):              463.863\n",
       "Skew:                           1.207   Prob(JB):                    1.88e-101\n",
       "Kurtosis:                       7.993   Cond. No.                     2.47e+04\n",
       "==============================================================================\n",
       "\n",
       "Notes:\n",
       "[1] Standard Errors assume that the covariance matrix of the errors is correctly specified.\n",
       "[2] The condition number is large, 2.47e+04. This might indicate that there are\n",
       "strong multicollinearity or other numerical problems.\n",
       "\"\"\""
      ]
     },
     "execution_count": 128,
     "metadata": {},
     "output_type": "execute_result"
    }
   ],
   "source": [
    "model = smf.ols('LoanAmount ~ ApplicantIncome + C(Married) + C(Education) + Property_Area',data = df).fit()\n",
    "model.summary()"
   ]
  },
  {
   "cell_type": "code",
   "execution_count": 129,
   "id": "38a92363",
   "metadata": {},
   "outputs": [
    {
     "data": {
      "text/plain": [
       "Intercept                       101.473488\n",
       "C(Married)[T.Yes]                20.892101\n",
       "C(Education)[T.Not Graduate]    -13.989519\n",
       "Property_Area[T.Semiurban]       -4.780110\n",
       "Property_Area[T.Urban]           -5.229287\n",
       "ApplicantIncome                   0.005914\n",
       "dtype: float64"
      ]
     },
     "execution_count": 129,
     "metadata": {},
     "output_type": "execute_result"
    }
   ],
   "source": [
    "loan_eq = smf.ols(formula='LoanAmount ~ ApplicantIncome + C(Married) + C(Education) + Property_Area', data=df).fit()\n",
    "loan_eq.params"
   ]
  },
  {
   "cell_type": "markdown",
   "id": "cba1d622",
   "metadata": {},
   "source": [
    "# Основные параметры регрессии, коэффициент детерминации и стандартная ошибка регрессии"
   ]
  },
  {
   "cell_type": "code",
   "execution_count": 130,
   "id": "d1f257ef",
   "metadata": {},
   "outputs": [
    {
     "data": {
      "text/plain": [
       "1359477.635"
      ]
     },
     "execution_count": 130,
     "metadata": {},
     "output_type": "execute_result"
    }
   ],
   "source": [
    "# TSS - общий расброс данных\n",
    "loan_eq.centered_tss.round(3)"
   ]
  },
  {
   "cell_type": "code",
   "execution_count": 131,
   "id": "d8b98ddd",
   "metadata": {},
   "outputs": [
    {
     "data": {
      "text/plain": [
       "379703.044"
      ]
     },
     "execution_count": 131,
     "metadata": {},
     "output_type": "execute_result"
    }
   ],
   "source": [
    "# ESS - часть разброса, объясняемая моделью (какое количество дисперсии объясняет модель)\n",
    "loan_eq.ess.round(3)"
   ]
  },
  {
   "cell_type": "code",
   "execution_count": 132,
   "id": "7255b4af",
   "metadata": {},
   "outputs": [
    {
     "data": {
      "text/plain": [
       "979774.592"
      ]
     },
     "execution_count": 132,
     "metadata": {},
     "output_type": "execute_result"
    }
   ],
   "source": [
    "# RSS -  часть разброса нельзя объяснить моделью (какое количество дисперсии остается после рассмотрения модели)\n",
    "RSS=loan_eq.ssr.round(3)\n",
    "RSS"
   ]
  },
  {
   "cell_type": "code",
   "execution_count": 133,
   "id": "55929a5e",
   "metadata": {},
   "outputs": [
    {
     "data": {
      "text/plain": [
       "0.279"
      ]
     },
     "execution_count": 133,
     "metadata": {},
     "output_type": "execute_result"
    }
   ],
   "source": [
    "# R^2 - какая доля дисперсии целевой переменной объяснена моделью\n",
    "loan_eq.rsquared.round(3)"
   ]
  },
  {
   "cell_type": "code",
   "execution_count": 134,
   "id": "57a65289",
   "metadata": {},
   "outputs": [
    {
     "data": {
      "text/plain": [
       "52.025"
      ]
     },
     "execution_count": 134,
     "metadata": {},
     "output_type": "execute_result"
    }
   ],
   "source": [
    "n=367\n",
    "k=4\n",
    "s=np.sqrt(RSS/(n-k-1))\n",
    "round(s,3)"
   ]
  },
  {
   "cell_type": "markdown",
   "id": "96d728da",
   "metadata": {},
   "source": [
    "# Интерпретация коэффициентов"
   ]
  },
  {
   "cell_type": "markdown",
   "id": "2f57057c",
   "metadata": {},
   "source": [
    "## Семейное положение"
   ]
  },
  {
   "cell_type": "markdown",
   "id": "0c8e82d3",
   "metadata": {},
   "source": [
    "- $\\textit{Женатые/замужние люди берут ипотечный кредит стоимостью на 20.9 выше, чем неженатые/незамужние}$;"
   ]
  },
  {
   "cell_type": "markdown",
   "id": "92901adc",
   "metadata": {},
   "source": [
    "- $\\textit{Значение коэффициента статистически значимо, т.к. p_value = 0.000, что подтверждает значительное влияние семейного положения на сумму кредита при учете  других переменных в модели}$"
   ]
  },
  {
   "cell_type": "markdown",
   "id": "fd430279",
   "metadata": {},
   "source": [
    "## Образование"
   ]
  },
  {
   "cell_type": "markdown",
   "id": "42e4a35d",
   "metadata": {},
   "source": [
    "- $\\textit{Люди с неоконченным высшим образованием берут ипотечные кредиты с суммой меньше на 13.99, чем люди с высшим образованием}$;"
   ]
  },
  {
   "cell_type": "markdown",
   "id": "0a41290d",
   "metadata": {},
   "source": [
    "- $\\textit{Значение коэффициента статистически значимо, т.к. p_value = 0.036, что подтверждает значительное влияние образования на сумму кредита при учете  других переменных в модели}$"
   ]
  },
  {
   "cell_type": "markdown",
   "id": "713fb6dd",
   "metadata": {},
   "source": [
    "## Территория собственности"
   ]
  },
  {
   "cell_type": "markdown",
   "id": "db675fbe",
   "metadata": {},
   "source": [
    "- $\\textit{Если собственность для которой берется ипотечный кредит находится в сельской местности, то сумма кредита уменьшается на 4.78};$"
   ]
  },
  {
   "cell_type": "markdown",
   "id": "ecc6c622",
   "metadata": {},
   "source": [
    "- $\\textit{Значение коэффициента статистически значимо, т.к. p_value = 0.496, что подтверждает значительное влияние местоположения собственности в сельской местностина сумму кредита при учете  других переменных в модели}$"
   ]
  },
  {
   "cell_type": "markdown",
   "id": "d570bd44",
   "metadata": {},
   "source": [
    "- $\\textit{Если собственность для которой берется ипотечный кредит находится в городе, то сумма кредита уменьшается на 5.23};$"
   ]
  },
  {
   "cell_type": "markdown",
   "id": "dce637e7",
   "metadata": {},
   "source": [
    "- $\\textit{Значение коэффициента статистически значимо, т.к. p_value = 0.436, что подтверждает значительное влияние местоположения собственности в городской местности на сумму кредита при учете  других переменных в модели}$"
   ]
  },
  {
   "cell_type": "markdown",
   "id": "3051cbff",
   "metadata": {},
   "source": [
    "## Доход заявителя"
   ]
  },
  {
   "cell_type": "markdown",
   "id": "d4598dc9",
   "metadata": {},
   "source": [
    "- $\\textit{При увеличении дохода заявителя на 0.0059, сумма кредита также увеличивается на 0.0059};$"
   ]
  },
  {
   "cell_type": "markdown",
   "id": "085c1258",
   "metadata": {},
   "source": [
    "- $\\textit{Значение коэффициента статистически значимо, т.к. p_value = 0.000, что подтверждает значительное влияние дохода заявителя на сумму кредита при учете  других переменных в модели}$"
   ]
  },
  {
   "cell_type": "markdown",
   "id": "f04b2fa2",
   "metadata": {},
   "source": [
    "# Визуализация данных"
   ]
  },
  {
   "cell_type": "markdown",
   "id": "0fa0e852",
   "metadata": {},
   "source": [
    "## Зависимость регрессоров от различных переменных"
   ]
  },
  {
   "cell_type": "code",
   "execution_count": 135,
   "id": "048330d2",
   "metadata": {},
   "outputs": [
    {
     "data": {
      "text/plain": [
       "<seaborn.axisgrid.PairGrid at 0x21f2e7d1730>"
      ]
     },
     "execution_count": 135,
     "metadata": {},
     "output_type": "execute_result"
    }
   ],
   "source": [
    "sns.pairplot(df[['ApplicantIncome','Married','Education','Property_Area']], hue='Married')"
   ]
  },
  {
   "cell_type": "code",
   "execution_count": 136,
   "id": "bde266b9",
   "metadata": {},
   "outputs": [
    {
     "data": {
      "text/plain": [
       "<seaborn.axisgrid.PairGrid at 0x21f2eba6be0>"
      ]
     },
     "execution_count": 136,
     "metadata": {},
     "output_type": "execute_result"
    }
   ],
   "source": [
    "sns.pairplot(df[['ApplicantIncome','Married','Education','Property_Area']], hue='Education')"
   ]
  },
  {
   "cell_type": "code",
   "execution_count": 137,
   "id": "71715406",
   "metadata": {},
   "outputs": [
    {
     "data": {
      "text/plain": [
       "<seaborn.axisgrid.PairGrid at 0x21f2e6b7700>"
      ]
     },
     "execution_count": 137,
     "metadata": {},
     "output_type": "execute_result"
    }
   ],
   "source": [
    "sns.pairplot(df[['ApplicantIncome','Married','Education','Property_Area']], hue='Property_Area')"
   ]
  },
  {
   "cell_type": "markdown",
   "id": "955c51a0",
   "metadata": {},
   "source": [
    "## График матрицы рассеяния"
   ]
  },
  {
   "cell_type": "code",
   "execution_count": 138,
   "id": "8f2def3e",
   "metadata": {},
   "outputs": [
    {
     "data": {
      "image/png": "[encoded data removed]",
      "text/plain": [
       "<Figure size 314.236x250 with 2 Axes>"
      ]
     },
     "metadata": {},
     "output_type": "display_data"
    },
    {
     "data": {
      "image/png": "[encoded data removed]",
      "text/plain": [
       "<Figure size 330.361x250 with 2 Axes>"
      ]
     },
     "metadata": {},
     "output_type": "display_data"
    },
    {
     "data": {
      "image/png": "[encoded data removed]",
      "text/plain": [
       "<Figure size 359.361x250 with 2 Axes>"
      ]
     },
     "metadata": {},
     "output_type": "display_data"
    },
    {
     "data": {
      "image/png": "[encoded data removed]",
      "text/plain": [
       "<Figure size 1250x1250 with 30 Axes>"
      ]
     },
     "metadata": {},
     "output_type": "display_data"
    }
   ],
   "source": [
    "sns.pairplot(df)\n",
    "plt.show()"
   ]
  },
  {
   "cell_type": "markdown",
   "id": "11c90dea",
   "metadata": {},
   "source": [
    "## График матрицы рассеяния позволяет визуально исследовать связи между всеми переменными в датасете. На главной диагонали матрицы располагаются гистограммы для каждой переменной, показывающие ее распределение. В остальных ячейках матрицы располагаются графики рассеяния для пар переменных, где ось X соответствует одной переменной, а ось Y - другой переменной."
   ]
  },
  {
   "cell_type": "markdown",
   "id": "55b151cd",
   "metadata": {},
   "source": [
    "# Построение доверительных интервалов и определение значимых переменных"
   ]
  },
  {
   "cell_type": "code",
   "execution_count": 139,
   "id": "fd412dec",
   "metadata": {},
   "outputs": [
    {
     "data": {
      "text/html": [
       "<table class=\"simpletable\">\n",
       "<caption>OLS Regression Results</caption>\n",
       "<tr>\n",
       "  <th>Dep. Variable:</th>       <td>LoanAmount</td>    <th>  R-squared:         </th> <td>   0.279</td>\n",
       "</tr>\n",
       "<tr>\n",
       "  <th>Model:</th>                   <td>OLS</td>       <th>  Adj. R-squared:    </th> <td>   0.269</td>\n",
       "</tr>\n",
       "<tr>\n",
       "  <th>Method:</th>             <td>Least Squares</td>  <th>  F-statistic:       </th> <td>   27.59</td>\n",
       "</tr>\n",
       "<tr>\n",
       "  <th>Date:</th>             <td>Tue, 09 May 2023</td> <th>  Prob (F-statistic):</th> <td>1.30e-23</td>\n",
       "</tr>\n",
       "<tr>\n",
       "  <th>Time:</th>                 <td>16:27:09</td>     <th>  Log-Likelihood:    </th> <td> -1944.2</td>\n",
       "</tr>\n",
       "<tr>\n",
       "  <th>No. Observations:</th>      <td>   362</td>      <th>  AIC:               </th> <td>   3900.</td>\n",
       "</tr>\n",
       "<tr>\n",
       "  <th>Df Residuals:</th>          <td>   356</td>      <th>  BIC:               </th> <td>   3924.</td>\n",
       "</tr>\n",
       "<tr>\n",
       "  <th>Df Model:</th>              <td>     5</td>      <th>                     </th>     <td> </td>   \n",
       "</tr>\n",
       "<tr>\n",
       "  <th>Covariance Type:</th>      <td>nonrobust</td>    <th>                     </th>     <td> </td>   \n",
       "</tr>\n",
       "</table>\n",
       "<table class=\"simpletable\">\n",
       "<tr>\n",
       "                <td></td>                  <th>coef</th>     <th>std err</th>      <th>t</th>      <th>P>|t|</th>  <th>[0.025</th>    <th>0.975]</th>  \n",
       "</tr>\n",
       "<tr>\n",
       "  <th>Intercept</th>                    <td>  101.4735</td> <td>    6.829</td> <td>   14.860</td> <td> 0.000</td> <td>   88.044</td> <td>  114.903</td>\n",
       "</tr>\n",
       "<tr>\n",
       "  <th>C(Married)[T.Yes]</th>            <td>   20.8921</td> <td>    5.730</td> <td>    3.646</td> <td> 0.000</td> <td>    9.623</td> <td>   32.162</td>\n",
       "</tr>\n",
       "<tr>\n",
       "  <th>C(Education)[T.Not Graduate]</th> <td>  -13.9895</td> <td>    6.647</td> <td>   -2.105</td> <td> 0.036</td> <td>  -27.062</td> <td>   -0.917</td>\n",
       "</tr>\n",
       "<tr>\n",
       "  <th>Property_Area[T.Semiurban]</th>   <td>   -4.7801</td> <td>    7.019</td> <td>   -0.681</td> <td> 0.496</td> <td>  -18.584</td> <td>    9.024</td>\n",
       "</tr>\n",
       "<tr>\n",
       "  <th>Property_Area[T.Urban]</th>       <td>   -5.2293</td> <td>    6.711</td> <td>   -0.779</td> <td> 0.436</td> <td>  -18.428</td> <td>    7.970</td>\n",
       "</tr>\n",
       "<tr>\n",
       "  <th>ApplicantIncome</th>              <td>    0.0059</td> <td>    0.001</td> <td>   10.386</td> <td> 0.000</td> <td>    0.005</td> <td>    0.007</td>\n",
       "</tr>\n",
       "</table>\n",
       "<table class=\"simpletable\">\n",
       "<tr>\n",
       "  <th>Omnibus:</th>       <td>107.090</td> <th>  Durbin-Watson:     </th> <td>   1.841</td> \n",
       "</tr>\n",
       "<tr>\n",
       "  <th>Prob(Omnibus):</th> <td> 0.000</td>  <th>  Jarque-Bera (JB):  </th> <td> 463.863</td> \n",
       "</tr>\n",
       "<tr>\n",
       "  <th>Skew:</th>          <td> 1.207</td>  <th>  Prob(JB):          </th> <td>1.88e-101</td>\n",
       "</tr>\n",
       "<tr>\n",
       "  <th>Kurtosis:</th>      <td> 7.993</td>  <th>  Cond. No.          </th> <td>2.47e+04</td> \n",
       "</tr>\n",
       "</table><br/><br/>Notes:<br/>[1] Standard Errors assume that the covariance matrix of the errors is correctly specified.<br/>[2] The condition number is large, 2.47e+04. This might indicate that there are<br/>strong multicollinearity or other numerical problems."
      ],
      "text/plain": [
       "<class 'statsmodels.iolib.summary.Summary'>\n",
       "\"\"\"\n",
       "                            OLS Regression Results                            \n",
       "==============================================================================\n",
       "Dep. Variable:             LoanAmount   R-squared:                       0.279\n",
       "Model:                            OLS   Adj. R-squared:                  0.269\n",
       "Method:                 Least Squares   F-statistic:                     27.59\n",
       "Date:                Tue, 09 May 2023   Prob (F-statistic):           1.30e-23\n",
       "Time:                        16:27:09   Log-Likelihood:                -1944.2\n",
       "No. Observations:                 362   AIC:                             3900.\n",
       "Df Residuals:                     356   BIC:                             3924.\n",
       "Df Model:                           5                                         \n",
       "Covariance Type:            nonrobust                                         \n",
       "================================================================================================\n",
       "                                   coef    std err          t      P>|t|      [0.025      0.975]\n",
       "------------------------------------------------------------------------------------------------\n",
       "Intercept                      101.4735      6.829     14.860      0.000      88.044     114.903\n",
       "C(Married)[T.Yes]               20.8921      5.730      3.646      0.000       9.623      32.162\n",
       "C(Education)[T.Not Graduate]   -13.9895      6.647     -2.105      0.036     -27.062      -0.917\n",
       "Property_Area[T.Semiurban]      -4.7801      7.019     -0.681      0.496     -18.584       9.024\n",
       "Property_Area[T.Urban]          -5.2293      6.711     -0.779      0.436     -18.428       7.970\n",
       "ApplicantIncome                  0.0059      0.001     10.386      0.000       0.005       0.007\n",
       "==============================================================================\n",
       "Omnibus:                      107.090   Durbin-Watson:                   1.841\n",
       "Prob(Omnibus):                  0.000   Jarque-Bera (JB):              463.863\n",
       "Skew:                           1.207   Prob(JB):                    1.88e-101\n",
       "Kurtosis:                       7.993   Cond. No.                     2.47e+04\n",
       "==============================================================================\n",
       "\n",
       "Notes:\n",
       "[1] Standard Errors assume that the covariance matrix of the errors is correctly specified.\n",
       "[2] The condition number is large, 2.47e+04. This might indicate that there are\n",
       "strong multicollinearity or other numerical problems.\n",
       "\"\"\""
      ]
     },
     "execution_count": 139,
     "metadata": {},
     "output_type": "execute_result"
    }
   ],
   "source": [
    "model = smf.ols('LoanAmount ~ ApplicantIncome + C(Married) + C(Education) + Property_Area',data = df).fit()\n",
    "model.summary()"
   ]
  },
  {
   "cell_type": "code",
   "execution_count": 140,
   "id": "2524b718",
   "metadata": {},
   "outputs": [],
   "source": [
    "data_string='''\tNames Estimate\tstd.error\t\n",
    "Intercept\t101.4735\t6.829\n",
    "C(Married)[T.Yes]\t20.8921\t5.730\t\n",
    "C(Education)[T.Not_Graduate]\t-13.9895\t6.647\t\n",
    "Property_Area[T.Semiurban]\t-4.7801\t7.019\t\n",
    "Property_Area[T.Urban]\t-5.2293\t6.711\t\n",
    "ApplicantIncome\t0.0059\t0.001'''"
   ]
  },
  {
   "cell_type": "code",
   "execution_count": 141,
   "id": "043fede2",
   "metadata": {},
   "outputs": [
    {
     "data": {
      "text/html": [
       "<div>\n",
       "<style scoped>\n",
       "    .dataframe tbody tr th:only-of-type {\n",
       "        vertical-align: middle;\n",
       "    }\n",
       "\n",
       "    .dataframe tbody tr th {\n",
       "        vertical-align: top;\n",
       "    }\n",
       "\n",
       "    .dataframe thead th {\n",
       "        text-align: right;\n",
       "    }\n",
       "</style>\n",
       "<table border=\"1\" class=\"dataframe\">\n",
       "  <thead>\n",
       "    <tr style=\"text-align: right;\">\n",
       "      <th></th>\n",
       "      <th>Names</th>\n",
       "      <th>Estimate</th>\n",
       "      <th>std.error</th>\n",
       "    </tr>\n",
       "  </thead>\n",
       "  <tbody>\n",
       "    <tr>\n",
       "      <th>0</th>\n",
       "      <td>Intercept</td>\n",
       "      <td>101.4735</td>\n",
       "      <td>6.829</td>\n",
       "    </tr>\n",
       "    <tr>\n",
       "      <th>1</th>\n",
       "      <td>C(Married)[T.Yes]</td>\n",
       "      <td>20.8921</td>\n",
       "      <td>5.730</td>\n",
       "    </tr>\n",
       "    <tr>\n",
       "      <th>2</th>\n",
       "      <td>C(Education)[T.Not_Graduate]</td>\n",
       "      <td>-13.9895</td>\n",
       "      <td>6.647</td>\n",
       "    </tr>\n",
       "    <tr>\n",
       "      <th>3</th>\n",
       "      <td>Property_Area[T.Semiurban]</td>\n",
       "      <td>-4.7801</td>\n",
       "      <td>7.019</td>\n",
       "    </tr>\n",
       "    <tr>\n",
       "      <th>4</th>\n",
       "      <td>Property_Area[T.Urban]</td>\n",
       "      <td>-5.2293</td>\n",
       "      <td>6.711</td>\n",
       "    </tr>\n",
       "    <tr>\n",
       "      <th>5</th>\n",
       "      <td>ApplicantIncome</td>\n",
       "      <td>0.0059</td>\n",
       "      <td>0.001</td>\n",
       "    </tr>\n",
       "  </tbody>\n",
       "</table>\n",
       "</div>"
      ],
      "text/plain": [
       "                          Names  Estimate  std.error\n",
       "0                     Intercept  101.4735      6.829\n",
       "1             C(Married)[T.Yes]   20.8921      5.730\n",
       "2  C(Education)[T.Not_Graduate]  -13.9895      6.647\n",
       "3    Property_Area[T.Semiurban]   -4.7801      7.019\n",
       "4        Property_Area[T.Urban]   -5.2293      6.711\n",
       "5               ApplicantIncome    0.0059      0.001"
      ]
     },
     "execution_count": 141,
     "metadata": {},
     "output_type": "execute_result"
    }
   ],
   "source": [
    "df=pd.read_csv(io.StringIO(data_string),sep='\\s+')\n",
    "df"
   ]
  },
  {
   "cell_type": "code",
   "execution_count": 142,
   "id": "32775e65",
   "metadata": {},
   "outputs": [
    {
     "data": {
      "text/plain": [
       "1.97"
      ]
     },
     "execution_count": 142,
     "metadata": {},
     "output_type": "execute_result"
    }
   ],
   "source": [
    "alpha= 0.05\n",
    "t_cr = stats.t.ppf(1-alpha/2, 367-6)\n",
    "t_cr.round(2)"
   ]
  },
  {
   "cell_type": "code",
   "execution_count": 143,
   "id": "26d3d3a4",
   "metadata": {},
   "outputs": [
    {
     "data": {
      "text/html": [
       "<div>\n",
       "<style scoped>\n",
       "    .dataframe tbody tr th:only-of-type {\n",
       "        vertical-align: middle;\n",
       "    }\n",
       "\n",
       "    .dataframe tbody tr th {\n",
       "        vertical-align: top;\n",
       "    }\n",
       "\n",
       "    .dataframe thead th {\n",
       "        text-align: right;\n",
       "    }\n",
       "</style>\n",
       "<table border=\"1\" class=\"dataframe\">\n",
       "  <thead>\n",
       "    <tr style=\"text-align: right;\">\n",
       "      <th></th>\n",
       "      <th>Names</th>\n",
       "      <th>Estimate</th>\n",
       "      <th>std.error</th>\n",
       "      <th>left</th>\n",
       "      <th>right</th>\n",
       "    </tr>\n",
       "  </thead>\n",
       "  <tbody>\n",
       "    <tr>\n",
       "      <th>0</th>\n",
       "      <td>Intercept</td>\n",
       "      <td>101.4735</td>\n",
       "      <td>6.829</td>\n",
       "      <td>88.043882</td>\n",
       "      <td>114.903118</td>\n",
       "    </tr>\n",
       "    <tr>\n",
       "      <th>1</th>\n",
       "      <td>C(Married)[T.Yes]</td>\n",
       "      <td>20.8921</td>\n",
       "      <td>5.730</td>\n",
       "      <td>9.623728</td>\n",
       "      <td>32.160472</td>\n",
       "    </tr>\n",
       "    <tr>\n",
       "      <th>2</th>\n",
       "      <td>C(Education)[T.Not_Graduate]</td>\n",
       "      <td>-13.9895</td>\n",
       "      <td>6.647</td>\n",
       "      <td>-27.061205</td>\n",
       "      <td>-0.917795</td>\n",
       "    </tr>\n",
       "    <tr>\n",
       "      <th>3</th>\n",
       "      <td>Property_Area[T.Semiurban]</td>\n",
       "      <td>-4.7801</td>\n",
       "      <td>7.019</td>\n",
       "      <td>-18.583364</td>\n",
       "      <td>9.023164</td>\n",
       "    </tr>\n",
       "    <tr>\n",
       "      <th>4</th>\n",
       "      <td>Property_Area[T.Urban]</td>\n",
       "      <td>-5.2293</td>\n",
       "      <td>6.711</td>\n",
       "      <td>-18.426865</td>\n",
       "      <td>7.968265</td>\n",
       "    </tr>\n",
       "    <tr>\n",
       "      <th>5</th>\n",
       "      <td>ApplicantIncome</td>\n",
       "      <td>0.0059</td>\n",
       "      <td>0.001</td>\n",
       "      <td>0.003933</td>\n",
       "      <td>0.007867</td>\n",
       "    </tr>\n",
       "  </tbody>\n",
       "</table>\n",
       "</div>"
      ],
      "text/plain": [
       "                          Names  Estimate  std.error       left       right\n",
       "0                     Intercept  101.4735      6.829  88.043882  114.903118\n",
       "1             C(Married)[T.Yes]   20.8921      5.730   9.623728   32.160472\n",
       "2  C(Education)[T.Not_Graduate]  -13.9895      6.647 -27.061205   -0.917795\n",
       "3    Property_Area[T.Semiurban]   -4.7801      7.019 -18.583364    9.023164\n",
       "4        Property_Area[T.Urban]   -5.2293      6.711 -18.426865    7.968265\n",
       "5               ApplicantIncome    0.0059      0.001   0.003933    0.007867"
      ]
     },
     "execution_count": 143,
     "metadata": {},
     "output_type": "execute_result"
    }
   ],
   "source": [
    "df['left'] = df['Estimate'] - t_cr*df['std.error']\n",
    "df['right'] = df['Estimate'] + t_cr*df['std.error']\n",
    "df"
   ]
  },
  {
   "cell_type": "code",
   "execution_count": 144,
   "id": "1cc6c5a7",
   "metadata": {},
   "outputs": [
    {
     "data": {
      "text/html": [
       "<div>\n",
       "<style scoped>\n",
       "    .dataframe tbody tr th:only-of-type {\n",
       "        vertical-align: middle;\n",
       "    }\n",
       "\n",
       "    .dataframe tbody tr th {\n",
       "        vertical-align: top;\n",
       "    }\n",
       "\n",
       "    .dataframe thead th {\n",
       "        text-align: right;\n",
       "    }\n",
       "</style>\n",
       "<table border=\"1\" class=\"dataframe\">\n",
       "  <thead>\n",
       "    <tr style=\"text-align: right;\">\n",
       "      <th></th>\n",
       "      <th>Names</th>\n",
       "      <th>Estimate</th>\n",
       "      <th>std.error</th>\n",
       "      <th>left</th>\n",
       "      <th>right</th>\n",
       "      <th>t_nabluedaemoe</th>\n",
       "    </tr>\n",
       "  </thead>\n",
       "  <tbody>\n",
       "    <tr>\n",
       "      <th>0</th>\n",
       "      <td>Intercept</td>\n",
       "      <td>101.4735</td>\n",
       "      <td>6.829</td>\n",
       "      <td>88.043882</td>\n",
       "      <td>114.903118</td>\n",
       "      <td>14.859203</td>\n",
       "    </tr>\n",
       "    <tr>\n",
       "      <th>1</th>\n",
       "      <td>C(Married)[T.Yes]</td>\n",
       "      <td>20.8921</td>\n",
       "      <td>5.730</td>\n",
       "      <td>9.623728</td>\n",
       "      <td>32.160472</td>\n",
       "      <td>3.646091</td>\n",
       "    </tr>\n",
       "    <tr>\n",
       "      <th>2</th>\n",
       "      <td>C(Education)[T.Not_Graduate]</td>\n",
       "      <td>-13.9895</td>\n",
       "      <td>6.647</td>\n",
       "      <td>-27.061205</td>\n",
       "      <td>-0.917795</td>\n",
       "      <td>-2.104634</td>\n",
       "    </tr>\n",
       "    <tr>\n",
       "      <th>3</th>\n",
       "      <td>Property_Area[T.Semiurban]</td>\n",
       "      <td>-4.7801</td>\n",
       "      <td>7.019</td>\n",
       "      <td>-18.583364</td>\n",
       "      <td>9.023164</td>\n",
       "      <td>-0.681023</td>\n",
       "    </tr>\n",
       "    <tr>\n",
       "      <th>4</th>\n",
       "      <td>Property_Area[T.Urban]</td>\n",
       "      <td>-5.2293</td>\n",
       "      <td>6.711</td>\n",
       "      <td>-18.426865</td>\n",
       "      <td>7.968265</td>\n",
       "      <td>-0.779213</td>\n",
       "    </tr>\n",
       "    <tr>\n",
       "      <th>5</th>\n",
       "      <td>ApplicantIncome</td>\n",
       "      <td>0.0059</td>\n",
       "      <td>0.001</td>\n",
       "      <td>0.003933</td>\n",
       "      <td>0.007867</td>\n",
       "      <td>5.900000</td>\n",
       "    </tr>\n",
       "  </tbody>\n",
       "</table>\n",
       "</div>"
      ],
      "text/plain": [
       "                          Names  Estimate  std.error       left       right  \\\n",
       "0                     Intercept  101.4735      6.829  88.043882  114.903118   \n",
       "1             C(Married)[T.Yes]   20.8921      5.730   9.623728   32.160472   \n",
       "2  C(Education)[T.Not_Graduate]  -13.9895      6.647 -27.061205   -0.917795   \n",
       "3    Property_Area[T.Semiurban]   -4.7801      7.019 -18.583364    9.023164   \n",
       "4        Property_Area[T.Urban]   -5.2293      6.711 -18.426865    7.968265   \n",
       "5               ApplicantIncome    0.0059      0.001   0.003933    0.007867   \n",
       "\n",
       "   t_nabluedaemoe  \n",
       "0       14.859203  \n",
       "1        3.646091  \n",
       "2       -2.104634  \n",
       "3       -0.681023  \n",
       "4       -0.779213  \n",
       "5        5.900000  "
      ]
     },
     "execution_count": 144,
     "metadata": {},
     "output_type": "execute_result"
    }
   ],
   "source": [
    "df['t_nabluedaemoe'] = df['Estimate']/df['std.error']\n",
    "df"
   ]
  },
  {
   "cell_type": "code",
   "execution_count": 145,
   "id": "64997769",
   "metadata": {},
   "outputs": [
    {
     "data": {
      "text/html": [
       "<div>\n",
       "<style scoped>\n",
       "    .dataframe tbody tr th:only-of-type {\n",
       "        vertical-align: middle;\n",
       "    }\n",
       "\n",
       "    .dataframe tbody tr th {\n",
       "        vertical-align: top;\n",
       "    }\n",
       "\n",
       "    .dataframe thead th {\n",
       "        text-align: right;\n",
       "    }\n",
       "</style>\n",
       "<table border=\"1\" class=\"dataframe\">\n",
       "  <thead>\n",
       "    <tr style=\"text-align: right;\">\n",
       "      <th></th>\n",
       "      <th>Names</th>\n",
       "      <th>Estimate</th>\n",
       "      <th>std.error</th>\n",
       "      <th>left</th>\n",
       "      <th>right</th>\n",
       "      <th>t_nabluedaemoe</th>\n",
       "      <th>Znachimosty</th>\n",
       "    </tr>\n",
       "  </thead>\n",
       "  <tbody>\n",
       "    <tr>\n",
       "      <th>0</th>\n",
       "      <td>Intercept</td>\n",
       "      <td>101.4735</td>\n",
       "      <td>6.829</td>\n",
       "      <td>88.043882</td>\n",
       "      <td>114.903118</td>\n",
       "      <td>14.859203</td>\n",
       "      <td>znachim</td>\n",
       "    </tr>\n",
       "    <tr>\n",
       "      <th>1</th>\n",
       "      <td>C(Married)[T.Yes]</td>\n",
       "      <td>20.8921</td>\n",
       "      <td>5.730</td>\n",
       "      <td>9.623728</td>\n",
       "      <td>32.160472</td>\n",
       "      <td>3.646091</td>\n",
       "      <td>znachim</td>\n",
       "    </tr>\n",
       "    <tr>\n",
       "      <th>2</th>\n",
       "      <td>C(Education)[T.Not_Graduate]</td>\n",
       "      <td>-13.9895</td>\n",
       "      <td>6.647</td>\n",
       "      <td>-27.061205</td>\n",
       "      <td>-0.917795</td>\n",
       "      <td>-2.104634</td>\n",
       "      <td>znachim</td>\n",
       "    </tr>\n",
       "    <tr>\n",
       "      <th>3</th>\n",
       "      <td>Property_Area[T.Semiurban]</td>\n",
       "      <td>-4.7801</td>\n",
       "      <td>7.019</td>\n",
       "      <td>-18.583364</td>\n",
       "      <td>9.023164</td>\n",
       "      <td>-0.681023</td>\n",
       "      <td>ne znachim</td>\n",
       "    </tr>\n",
       "    <tr>\n",
       "      <th>4</th>\n",
       "      <td>Property_Area[T.Urban]</td>\n",
       "      <td>-5.2293</td>\n",
       "      <td>6.711</td>\n",
       "      <td>-18.426865</td>\n",
       "      <td>7.968265</td>\n",
       "      <td>-0.779213</td>\n",
       "      <td>ne znachim</td>\n",
       "    </tr>\n",
       "    <tr>\n",
       "      <th>5</th>\n",
       "      <td>ApplicantIncome</td>\n",
       "      <td>0.0059</td>\n",
       "      <td>0.001</td>\n",
       "      <td>0.003933</td>\n",
       "      <td>0.007867</td>\n",
       "      <td>5.900000</td>\n",
       "      <td>znachim</td>\n",
       "    </tr>\n",
       "  </tbody>\n",
       "</table>\n",
       "</div>"
      ],
      "text/plain": [
       "                          Names  Estimate  std.error       left       right  \\\n",
       "0                     Intercept  101.4735      6.829  88.043882  114.903118   \n",
       "1             C(Married)[T.Yes]   20.8921      5.730   9.623728   32.160472   \n",
       "2  C(Education)[T.Not_Graduate]  -13.9895      6.647 -27.061205   -0.917795   \n",
       "3    Property_Area[T.Semiurban]   -4.7801      7.019 -18.583364    9.023164   \n",
       "4        Property_Area[T.Urban]   -5.2293      6.711 -18.426865    7.968265   \n",
       "5               ApplicantIncome    0.0059      0.001   0.003933    0.007867   \n",
       "\n",
       "   t_nabluedaemoe Znachimosty  \n",
       "0       14.859203     znachim  \n",
       "1        3.646091     znachim  \n",
       "2       -2.104634     znachim  \n",
       "3       -0.681023  ne znachim  \n",
       "4       -0.779213  ne znachim  \n",
       "5        5.900000     znachim  "
      ]
     },
     "execution_count": 145,
     "metadata": {},
     "output_type": "execute_result"
    }
   ],
   "source": [
    "df['Znachimosty'] = df.apply(lambda x: 'znachim' if np.abs(x['t_nabluedaemoe']) >t_cr else 'ne znachim', axis = 1)\n",
    "df"
   ]
  },
  {
   "cell_type": "markdown",
   "id": "2b4cd0bd",
   "metadata": {},
   "source": [
    "## Значимыми являются переменные Intercept, Married, Education и ApplicantIncome"
   ]
  },
  {
   "cell_type": "markdown",
   "id": "64576063",
   "metadata": {},
   "source": [
    "# Оценка небинарной переменной"
   ]
  },
  {
   "cell_type": "code",
   "execution_count": 148,
   "id": "b486a7da",
   "metadata": {},
   "outputs": [
    {
     "data": {
      "text/html": [
       "<div>\n",
       "<style scoped>\n",
       "    .dataframe tbody tr th:only-of-type {\n",
       "        vertical-align: middle;\n",
       "    }\n",
       "\n",
       "    .dataframe tbody tr th {\n",
       "        vertical-align: top;\n",
       "    }\n",
       "\n",
       "    .dataframe thead th {\n",
       "        text-align: right;\n",
       "    }\n",
       "</style>\n",
       "<table border=\"1\" class=\"dataframe\">\n",
       "  <thead>\n",
       "    <tr style=\"text-align: right;\">\n",
       "      <th></th>\n",
       "      <th>ApplicantIncome</th>\n",
       "      <th>LoanAmount</th>\n",
       "      <th>Married_No</th>\n",
       "      <th>Married_Yes</th>\n",
       "      <th>Education_Graduate</th>\n",
       "      <th>Education_Not Graduate</th>\n",
       "      <th>Property_Area_Rural</th>\n",
       "      <th>Property_Area_Semiurban</th>\n",
       "      <th>Property_Area_Urban</th>\n",
       "    </tr>\n",
       "  </thead>\n",
       "  <tbody>\n",
       "    <tr>\n",
       "      <th>0</th>\n",
       "      <td>5720</td>\n",
       "      <td>110.0</td>\n",
       "      <td>0</td>\n",
       "      <td>1</td>\n",
       "      <td>1</td>\n",
       "      <td>0</td>\n",
       "      <td>0</td>\n",
       "      <td>0</td>\n",
       "      <td>1</td>\n",
       "    </tr>\n",
       "    <tr>\n",
       "      <th>1</th>\n",
       "      <td>3076</td>\n",
       "      <td>126.0</td>\n",
       "      <td>0</td>\n",
       "      <td>1</td>\n",
       "      <td>1</td>\n",
       "      <td>0</td>\n",
       "      <td>0</td>\n",
       "      <td>0</td>\n",
       "      <td>1</td>\n",
       "    </tr>\n",
       "    <tr>\n",
       "      <th>2</th>\n",
       "      <td>5000</td>\n",
       "      <td>208.0</td>\n",
       "      <td>0</td>\n",
       "      <td>1</td>\n",
       "      <td>1</td>\n",
       "      <td>0</td>\n",
       "      <td>0</td>\n",
       "      <td>0</td>\n",
       "      <td>1</td>\n",
       "    </tr>\n",
       "    <tr>\n",
       "      <th>3</th>\n",
       "      <td>2340</td>\n",
       "      <td>100.0</td>\n",
       "      <td>0</td>\n",
       "      <td>1</td>\n",
       "      <td>1</td>\n",
       "      <td>0</td>\n",
       "      <td>0</td>\n",
       "      <td>0</td>\n",
       "      <td>1</td>\n",
       "    </tr>\n",
       "    <tr>\n",
       "      <th>4</th>\n",
       "      <td>3276</td>\n",
       "      <td>78.0</td>\n",
       "      <td>1</td>\n",
       "      <td>0</td>\n",
       "      <td>0</td>\n",
       "      <td>1</td>\n",
       "      <td>0</td>\n",
       "      <td>0</td>\n",
       "      <td>1</td>\n",
       "    </tr>\n",
       "    <tr>\n",
       "      <th>...</th>\n",
       "      <td>...</td>\n",
       "      <td>...</td>\n",
       "      <td>...</td>\n",
       "      <td>...</td>\n",
       "      <td>...</td>\n",
       "      <td>...</td>\n",
       "      <td>...</td>\n",
       "      <td>...</td>\n",
       "      <td>...</td>\n",
       "    </tr>\n",
       "    <tr>\n",
       "      <th>362</th>\n",
       "      <td>4009</td>\n",
       "      <td>113.0</td>\n",
       "      <td>0</td>\n",
       "      <td>1</td>\n",
       "      <td>0</td>\n",
       "      <td>1</td>\n",
       "      <td>0</td>\n",
       "      <td>0</td>\n",
       "      <td>1</td>\n",
       "    </tr>\n",
       "    <tr>\n",
       "      <th>363</th>\n",
       "      <td>4158</td>\n",
       "      <td>115.0</td>\n",
       "      <td>0</td>\n",
       "      <td>1</td>\n",
       "      <td>1</td>\n",
       "      <td>0</td>\n",
       "      <td>0</td>\n",
       "      <td>0</td>\n",
       "      <td>1</td>\n",
       "    </tr>\n",
       "    <tr>\n",
       "      <th>364</th>\n",
       "      <td>3250</td>\n",
       "      <td>126.0</td>\n",
       "      <td>1</td>\n",
       "      <td>0</td>\n",
       "      <td>1</td>\n",
       "      <td>0</td>\n",
       "      <td>0</td>\n",
       "      <td>1</td>\n",
       "      <td>0</td>\n",
       "    </tr>\n",
       "    <tr>\n",
       "      <th>365</th>\n",
       "      <td>5000</td>\n",
       "      <td>158.0</td>\n",
       "      <td>0</td>\n",
       "      <td>1</td>\n",
       "      <td>1</td>\n",
       "      <td>0</td>\n",
       "      <td>1</td>\n",
       "      <td>0</td>\n",
       "      <td>0</td>\n",
       "    </tr>\n",
       "    <tr>\n",
       "      <th>366</th>\n",
       "      <td>9200</td>\n",
       "      <td>98.0</td>\n",
       "      <td>1</td>\n",
       "      <td>0</td>\n",
       "      <td>1</td>\n",
       "      <td>0</td>\n",
       "      <td>1</td>\n",
       "      <td>0</td>\n",
       "      <td>0</td>\n",
       "    </tr>\n",
       "  </tbody>\n",
       "</table>\n",
       "<p>367 rows × 9 columns</p>\n",
       "</div>"
      ],
      "text/plain": [
       "     ApplicantIncome  LoanAmount  Married_No  Married_Yes  Education_Graduate  \\\n",
       "0               5720       110.0           0            1                   1   \n",
       "1               3076       126.0           0            1                   1   \n",
       "2               5000       208.0           0            1                   1   \n",
       "3               2340       100.0           0            1                   1   \n",
       "4               3276        78.0           1            0                   0   \n",
       "..               ...         ...         ...          ...                 ...   \n",
       "362             4009       113.0           0            1                   0   \n",
       "363             4158       115.0           0            1                   1   \n",
       "364             3250       126.0           1            0                   1   \n",
       "365             5000       158.0           0            1                   1   \n",
       "366             9200        98.0           1            0                   1   \n",
       "\n",
       "     Education_Not Graduate  Property_Area_Rural  Property_Area_Semiurban  \\\n",
       "0                         0                    0                        0   \n",
       "1                         0                    0                        0   \n",
       "2                         0                    0                        0   \n",
       "3                         0                    0                        0   \n",
       "4                         1                    0                        0   \n",
       "..                      ...                  ...                      ...   \n",
       "362                       1                    0                        0   \n",
       "363                       0                    0                        0   \n",
       "364                       0                    0                        1   \n",
       "365                       0                    1                        0   \n",
       "366                       0                    1                        0   \n",
       "\n",
       "     Property_Area_Urban  \n",
       "0                      1  \n",
       "1                      1  \n",
       "2                      1  \n",
       "3                      1  \n",
       "4                      1  \n",
       "..                   ...  \n",
       "362                    1  \n",
       "363                    1  \n",
       "364                    0  \n",
       "365                    0  \n",
       "366                    0  \n",
       "\n",
       "[367 rows x 9 columns]"
      ]
     },
     "execution_count": 148,
     "metadata": {},
     "output_type": "execute_result"
    }
   ],
   "source": [
    "df = pd.read_csv('https://raw.githubusercontent.com/EMR-Python/emr-hw-e-tanicheva/main/%D0%90%D0%BD%D0%B0%D0%BB%D0%B8%D0%B7/home_loan.csv?token=GHSAT0AAAAAACAJVQ2YK2FBCTLZD26Y4NXUZC2JKCQ')\n",
    "# Метод .loc[] фильтрует данные таблицы по строкам и столбцам.\n",
    "# Метод  \"df.loc[:,['carat']]\" делает срез данных и означает,\n",
    "# что из датафрейма выбираются все строки(это делается с помощью знака \":\") столбца \"carat\".\n",
    "df_all = pd.get_dummies(df.loc[:,['ApplicantIncome','Married','Education','Property_Area','LoanAmount']])\n",
    "df_all"
   ]
  },
  {
   "cell_type": "code",
   "execution_count": 153,
   "id": "1928d94d",
   "metadata": {},
   "outputs": [
    {
     "data": {
      "text/plain": [
       "Intercept                  51.596484\n",
       "ApplicantIncome             0.005914\n",
       "Married_No                 15.352192\n",
       "Married_Yes                36.244293\n",
       "Education_Graduate         13.989519\n",
       "Property_Area_Rural        20.535294\n",
       "Property_Area_Semiurban    15.755184\n",
       "Property_Area_Urban        15.306007\n",
       "dtype: float64"
      ]
     },
     "execution_count": 153,
     "metadata": {},
     "output_type": "execute_result"
    }
   ],
   "source": [
    "model_d = smf.ols(formula='LoanAmount ~ ApplicantIncome +Married_No + Married_Yes + Education_Graduate + Property_Area_Rural + Property_Area_Semiurban + Property_Area_Urban ',data=df_all).fit()\n",
    "model_d.params"
   ]
  },
  {
   "cell_type": "markdown",
   "id": "5e71aaea",
   "metadata": {},
   "source": [
    "### Гипотеза"
   ]
  },
  {
   "cell_type": "markdown",
   "id": "b61fca60",
   "metadata": {},
   "source": [
    "$H_0: \\beta_{Property Area Rural} = \\beta_{Property Area Semiurban} = \\beta_{Property Area Urban} = 0$"
   ]
  },
  {
   "cell_type": "markdown",
   "id": "e64601f6",
   "metadata": {},
   "source": [
    "$H_1: \\beta_{Property Area Rural}^2 + \\beta_{Property Area Semiurban}^2 + \\beta_{Property Area Urban}^2 > 0$"
   ]
  },
  {
   "cell_type": "code",
   "execution_count": 154,
   "id": "c9671bc6",
   "metadata": {},
   "outputs": [
    {
     "data": {
      "text/plain": [
       "<class 'statsmodels.stats.contrast.ContrastResults'>\n",
       "<F test: F=78.90665737811945, p=3.732172864524065e-39, df_denom=356, df_num=3>"
      ]
     },
     "execution_count": 154,
     "metadata": {},
     "output_type": "execute_result"
    }
   ],
   "source": [
    "model_d.f_test('Property_Area_Rural = Property_Area_Semiurban = Property_Area_Urban =0')"
   ]
  },
  {
   "cell_type": "code",
   "execution_count": 155,
   "id": "43105910",
   "metadata": {},
   "outputs": [
    {
     "data": {
      "text/plain": [
       "2.63"
      ]
     },
     "execution_count": 155,
     "metadata": {},
     "output_type": "execute_result"
    }
   ],
   "source": [
    "stats.f.ppf(1-0.05,3,len(df_all)-3).round(2)"
   ]
  },
  {
   "cell_type": "markdown",
   "id": "143298f3",
   "metadata": {},
   "source": [
    "$F_{obs} > F_{cr}$  $\\textit{следовательно, категориальная переменная территории собственности является значимой}$"
   ]
  },
  {
   "cell_type": "markdown",
   "id": "0d47586d",
   "metadata": {},
   "source": [
    "# Оценка регрессии на наличие мультиколлинеарности"
   ]
  },
  {
   "cell_type": "code",
   "execution_count": 79,
   "id": "262ca5e6",
   "metadata": {},
   "outputs": [
    {
     "data": {
      "image/png": "[encoded data removed]",
      "text/plain": [
       "<Figure size 640x480 with 2 Axes>"
      ]
     },
     "metadata": {},
     "output_type": "display_data"
    }
   ],
   "source": [
    "columns = ['ApplicantIncome','Married','Education','Property_Area', 'LoanAmount']\n",
    "subset = df[columns]\n",
    "corr_matrix = subset.corr()\n",
    "sns.heatmap(corr_matrix, annot=True, cmap='coolwarm')\n",
    "plt.show()"
   ]
  },
  {
   "cell_type": "markdown",
   "id": "0771571a",
   "metadata": {},
   "source": [
    "# Анализ модели на наличие гетероскедастичности"
   ]
  },
  {
   "cell_type": "markdown",
   "id": "b4e4e148",
   "metadata": {},
   "source": [
    "$H_0: \\gamma_1 = \\gamma_2 = \\gamma_3 = \\gamma_4 = 0$ "
   ]
  },
  {
   "cell_type": "markdown",
   "id": "eb121759",
   "metadata": {},
   "source": [
    "$H_1: \\gamma_1^2 + \\gamma_2^2 + \\gamma_3^2 + \\gamma_4^2 > 0$ "
   ]
  },
  {
   "cell_type": "code",
   "execution_count": 81,
   "id": "c52c0b15",
   "metadata": {},
   "outputs": [
    {
     "data": {
      "text/html": [
       "<div>\n",
       "<style scoped>\n",
       "    .dataframe tbody tr th:only-of-type {\n",
       "        vertical-align: middle;\n",
       "    }\n",
       "\n",
       "    .dataframe tbody tr th {\n",
       "        vertical-align: top;\n",
       "    }\n",
       "\n",
       "    .dataframe thead th {\n",
       "        text-align: right;\n",
       "    }\n",
       "</style>\n",
       "<table border=\"1\" class=\"dataframe\">\n",
       "  <thead>\n",
       "    <tr style=\"text-align: right;\">\n",
       "      <th></th>\n",
       "      <th>Loan_ID</th>\n",
       "      <th>Gender</th>\n",
       "      <th>Married</th>\n",
       "      <th>Dependents</th>\n",
       "      <th>Education</th>\n",
       "      <th>Self_Employed</th>\n",
       "      <th>ApplicantIncome</th>\n",
       "      <th>CoapplicantIncome</th>\n",
       "      <th>LoanAmount</th>\n",
       "      <th>Loan_Amount_Term</th>\n",
       "      <th>Credit_History</th>\n",
       "      <th>Property_Area</th>\n",
       "    </tr>\n",
       "  </thead>\n",
       "  <tbody>\n",
       "    <tr>\n",
       "      <th>0</th>\n",
       "      <td>LP001015</td>\n",
       "      <td>Male</td>\n",
       "      <td>Yes</td>\n",
       "      <td>0</td>\n",
       "      <td>Graduate</td>\n",
       "      <td>No</td>\n",
       "      <td>5720</td>\n",
       "      <td>0</td>\n",
       "      <td>110.0</td>\n",
       "      <td>360.0</td>\n",
       "      <td>1.0</td>\n",
       "      <td>Urban</td>\n",
       "    </tr>\n",
       "    <tr>\n",
       "      <th>1</th>\n",
       "      <td>LP001022</td>\n",
       "      <td>Male</td>\n",
       "      <td>Yes</td>\n",
       "      <td>1</td>\n",
       "      <td>Graduate</td>\n",
       "      <td>No</td>\n",
       "      <td>3076</td>\n",
       "      <td>1500</td>\n",
       "      <td>126.0</td>\n",
       "      <td>360.0</td>\n",
       "      <td>1.0</td>\n",
       "      <td>Urban</td>\n",
       "    </tr>\n",
       "    <tr>\n",
       "      <th>2</th>\n",
       "      <td>LP001031</td>\n",
       "      <td>Male</td>\n",
       "      <td>Yes</td>\n",
       "      <td>2</td>\n",
       "      <td>Graduate</td>\n",
       "      <td>No</td>\n",
       "      <td>5000</td>\n",
       "      <td>1800</td>\n",
       "      <td>208.0</td>\n",
       "      <td>360.0</td>\n",
       "      <td>1.0</td>\n",
       "      <td>Urban</td>\n",
       "    </tr>\n",
       "    <tr>\n",
       "      <th>3</th>\n",
       "      <td>LP001035</td>\n",
       "      <td>Male</td>\n",
       "      <td>Yes</td>\n",
       "      <td>2</td>\n",
       "      <td>Graduate</td>\n",
       "      <td>No</td>\n",
       "      <td>2340</td>\n",
       "      <td>2546</td>\n",
       "      <td>100.0</td>\n",
       "      <td>360.0</td>\n",
       "      <td>NaN</td>\n",
       "      <td>Urban</td>\n",
       "    </tr>\n",
       "    <tr>\n",
       "      <th>4</th>\n",
       "      <td>LP001051</td>\n",
       "      <td>Male</td>\n",
       "      <td>No</td>\n",
       "      <td>0</td>\n",
       "      <td>Not Graduate</td>\n",
       "      <td>No</td>\n",
       "      <td>3276</td>\n",
       "      <td>0</td>\n",
       "      <td>78.0</td>\n",
       "      <td>360.0</td>\n",
       "      <td>1.0</td>\n",
       "      <td>Urban</td>\n",
       "    </tr>\n",
       "    <tr>\n",
       "      <th>...</th>\n",
       "      <td>...</td>\n",
       "      <td>...</td>\n",
       "      <td>...</td>\n",
       "      <td>...</td>\n",
       "      <td>...</td>\n",
       "      <td>...</td>\n",
       "      <td>...</td>\n",
       "      <td>...</td>\n",
       "      <td>...</td>\n",
       "      <td>...</td>\n",
       "      <td>...</td>\n",
       "      <td>...</td>\n",
       "    </tr>\n",
       "    <tr>\n",
       "      <th>362</th>\n",
       "      <td>LP002971</td>\n",
       "      <td>Male</td>\n",
       "      <td>Yes</td>\n",
       "      <td>3+</td>\n",
       "      <td>Not Graduate</td>\n",
       "      <td>Yes</td>\n",
       "      <td>4009</td>\n",
       "      <td>1777</td>\n",
       "      <td>113.0</td>\n",
       "      <td>360.0</td>\n",
       "      <td>1.0</td>\n",
       "      <td>Urban</td>\n",
       "    </tr>\n",
       "    <tr>\n",
       "      <th>363</th>\n",
       "      <td>LP002975</td>\n",
       "      <td>Male</td>\n",
       "      <td>Yes</td>\n",
       "      <td>0</td>\n",
       "      <td>Graduate</td>\n",
       "      <td>No</td>\n",
       "      <td>4158</td>\n",
       "      <td>709</td>\n",
       "      <td>115.0</td>\n",
       "      <td>360.0</td>\n",
       "      <td>1.0</td>\n",
       "      <td>Urban</td>\n",
       "    </tr>\n",
       "    <tr>\n",
       "      <th>364</th>\n",
       "      <td>LP002980</td>\n",
       "      <td>Male</td>\n",
       "      <td>No</td>\n",
       "      <td>0</td>\n",
       "      <td>Graduate</td>\n",
       "      <td>No</td>\n",
       "      <td>3250</td>\n",
       "      <td>1993</td>\n",
       "      <td>126.0</td>\n",
       "      <td>360.0</td>\n",
       "      <td>NaN</td>\n",
       "      <td>Semiurban</td>\n",
       "    </tr>\n",
       "    <tr>\n",
       "      <th>365</th>\n",
       "      <td>LP002986</td>\n",
       "      <td>Male</td>\n",
       "      <td>Yes</td>\n",
       "      <td>0</td>\n",
       "      <td>Graduate</td>\n",
       "      <td>No</td>\n",
       "      <td>5000</td>\n",
       "      <td>2393</td>\n",
       "      <td>158.0</td>\n",
       "      <td>360.0</td>\n",
       "      <td>1.0</td>\n",
       "      <td>Rural</td>\n",
       "    </tr>\n",
       "    <tr>\n",
       "      <th>366</th>\n",
       "      <td>LP002989</td>\n",
       "      <td>Male</td>\n",
       "      <td>No</td>\n",
       "      <td>0</td>\n",
       "      <td>Graduate</td>\n",
       "      <td>Yes</td>\n",
       "      <td>9200</td>\n",
       "      <td>0</td>\n",
       "      <td>98.0</td>\n",
       "      <td>180.0</td>\n",
       "      <td>1.0</td>\n",
       "      <td>Rural</td>\n",
       "    </tr>\n",
       "  </tbody>\n",
       "</table>\n",
       "<p>367 rows × 12 columns</p>\n",
       "</div>"
      ],
      "text/plain": [
       "      Loan_ID Gender Married Dependents     Education Self_Employed  \\\n",
       "0    LP001015   Male     Yes          0      Graduate            No   \n",
       "1    LP001022   Male     Yes          1      Graduate            No   \n",
       "2    LP001031   Male     Yes          2      Graduate            No   \n",
       "3    LP001035   Male     Yes          2      Graduate            No   \n",
       "4    LP001051   Male      No          0  Not Graduate            No   \n",
       "..        ...    ...     ...        ...           ...           ...   \n",
       "362  LP002971   Male     Yes         3+  Not Graduate           Yes   \n",
       "363  LP002975   Male     Yes          0      Graduate            No   \n",
       "364  LP002980   Male      No          0      Graduate            No   \n",
       "365  LP002986   Male     Yes          0      Graduate            No   \n",
       "366  LP002989   Male      No          0      Graduate           Yes   \n",
       "\n",
       "     ApplicantIncome  CoapplicantIncome  LoanAmount  Loan_Amount_Term  \\\n",
       "0               5720                  0       110.0             360.0   \n",
       "1               3076               1500       126.0             360.0   \n",
       "2               5000               1800       208.0             360.0   \n",
       "3               2340               2546       100.0             360.0   \n",
       "4               3276                  0        78.0             360.0   \n",
       "..               ...                ...         ...               ...   \n",
       "362             4009               1777       113.0             360.0   \n",
       "363             4158                709       115.0             360.0   \n",
       "364             3250               1993       126.0             360.0   \n",
       "365             5000               2393       158.0             360.0   \n",
       "366             9200                  0        98.0             180.0   \n",
       "\n",
       "     Credit_History Property_Area  \n",
       "0               1.0         Urban  \n",
       "1               1.0         Urban  \n",
       "2               1.0         Urban  \n",
       "3               NaN         Urban  \n",
       "4               1.0         Urban  \n",
       "..              ...           ...  \n",
       "362             1.0         Urban  \n",
       "363             1.0         Urban  \n",
       "364             NaN     Semiurban  \n",
       "365             1.0         Rural  \n",
       "366             1.0         Rural  \n",
       "\n",
       "[367 rows x 12 columns]"
      ]
     },
     "execution_count": 81,
     "metadata": {},
     "output_type": "execute_result"
    }
   ],
   "source": [
    "df = pd.read_csv('https://raw.githubusercontent.com/EMR-Python/emr-hw-e-tanicheva/main/%D0%90%D0%BD%D0%B0%D0%BB%D0%B8%D0%B7/home_loan.csv?token=GHSAT0AAAAAACAJVQ2Y26SFLCZOPTDWSISGZCZMQZQ')\n",
    "df"
   ]
  },
  {
   "cell_type": "code",
   "execution_count": 82,
   "id": "ccbf490d",
   "metadata": {},
   "outputs": [
    {
     "data": {
      "text/html": [
       "<div>\n",
       "<style scoped>\n",
       "    .dataframe tbody tr th:only-of-type {\n",
       "        vertical-align: middle;\n",
       "    }\n",
       "\n",
       "    .dataframe tbody tr th {\n",
       "        vertical-align: top;\n",
       "    }\n",
       "\n",
       "    .dataframe thead th {\n",
       "        text-align: right;\n",
       "    }\n",
       "</style>\n",
       "<table border=\"1\" class=\"dataframe\">\n",
       "  <thead>\n",
       "    <tr style=\"text-align: right;\">\n",
       "      <th></th>\n",
       "      <th>Loan_ID</th>\n",
       "      <th>Gender</th>\n",
       "      <th>Married</th>\n",
       "      <th>Dependents</th>\n",
       "      <th>Education</th>\n",
       "      <th>Self_Employed</th>\n",
       "      <th>ApplicantIncome</th>\n",
       "      <th>CoapplicantIncome</th>\n",
       "      <th>LoanAmount</th>\n",
       "      <th>Loan_Amount_Term</th>\n",
       "      <th>Credit_History</th>\n",
       "      <th>Property_Area</th>\n",
       "      <th>res2</th>\n",
       "      <th>res</th>\n",
       "    </tr>\n",
       "  </thead>\n",
       "  <tbody>\n",
       "    <tr>\n",
       "      <th>0</th>\n",
       "      <td>LP001015</td>\n",
       "      <td>Male</td>\n",
       "      <td>Yes</td>\n",
       "      <td>0</td>\n",
       "      <td>Graduate</td>\n",
       "      <td>No</td>\n",
       "      <td>5720</td>\n",
       "      <td>0</td>\n",
       "      <td>110.0</td>\n",
       "      <td>360.0</td>\n",
       "      <td>1.0</td>\n",
       "      <td>Urban</td>\n",
       "      <td>1678.081415</td>\n",
       "      <td>-40.964392</td>\n",
       "    </tr>\n",
       "    <tr>\n",
       "      <th>1</th>\n",
       "      <td>LP001022</td>\n",
       "      <td>Male</td>\n",
       "      <td>Yes</td>\n",
       "      <td>1</td>\n",
       "      <td>Graduate</td>\n",
       "      <td>No</td>\n",
       "      <td>3076</td>\n",
       "      <td>1500</td>\n",
       "      <td>126.0</td>\n",
       "      <td>360.0</td>\n",
       "      <td>1.0</td>\n",
       "      <td>Urban</td>\n",
       "      <td>87.007322</td>\n",
       "      <td>-9.327772</td>\n",
       "    </tr>\n",
       "    <tr>\n",
       "      <th>2</th>\n",
       "      <td>LP001031</td>\n",
       "      <td>Male</td>\n",
       "      <td>Yes</td>\n",
       "      <td>2</td>\n",
       "      <td>Graduate</td>\n",
       "      <td>No</td>\n",
       "      <td>5000</td>\n",
       "      <td>1800</td>\n",
       "      <td>208.0</td>\n",
       "      <td>360.0</td>\n",
       "      <td>1.0</td>\n",
       "      <td>Urban</td>\n",
       "      <td>3756.916334</td>\n",
       "      <td>61.293689</td>\n",
       "    </tr>\n",
       "    <tr>\n",
       "      <th>3</th>\n",
       "      <td>LP001035</td>\n",
       "      <td>Male</td>\n",
       "      <td>Yes</td>\n",
       "      <td>2</td>\n",
       "      <td>Graduate</td>\n",
       "      <td>No</td>\n",
       "      <td>2340</td>\n",
       "      <td>2546</td>\n",
       "      <td>100.0</td>\n",
       "      <td>360.0</td>\n",
       "      <td>NaN</td>\n",
       "      <td>Urban</td>\n",
       "      <td>959.454733</td>\n",
       "      <td>-30.975066</td>\n",
       "    </tr>\n",
       "    <tr>\n",
       "      <th>4</th>\n",
       "      <td>LP001051</td>\n",
       "      <td>Male</td>\n",
       "      <td>No</td>\n",
       "      <td>0</td>\n",
       "      <td>Not Graduate</td>\n",
       "      <td>No</td>\n",
       "      <td>3276</td>\n",
       "      <td>0</td>\n",
       "      <td>78.0</td>\n",
       "      <td>360.0</td>\n",
       "      <td>1.0</td>\n",
       "      <td>Urban</td>\n",
       "      <td>558.327377</td>\n",
       "      <td>-23.628952</td>\n",
       "    </tr>\n",
       "    <tr>\n",
       "      <th>...</th>\n",
       "      <td>...</td>\n",
       "      <td>...</td>\n",
       "      <td>...</td>\n",
       "      <td>...</td>\n",
       "      <td>...</td>\n",
       "      <td>...</td>\n",
       "      <td>...</td>\n",
       "      <td>...</td>\n",
       "      <td>...</td>\n",
       "      <td>...</td>\n",
       "      <td>...</td>\n",
       "      <td>...</td>\n",
       "      <td>...</td>\n",
       "      <td>...</td>\n",
       "    </tr>\n",
       "    <tr>\n",
       "      <th>362</th>\n",
       "      <td>LP002971</td>\n",
       "      <td>Male</td>\n",
       "      <td>Yes</td>\n",
       "      <td>3+</td>\n",
       "      <td>Not Graduate</td>\n",
       "      <td>Yes</td>\n",
       "      <td>4009</td>\n",
       "      <td>1777</td>\n",
       "      <td>113.0</td>\n",
       "      <td>360.0</td>\n",
       "      <td>1.0</td>\n",
       "      <td>Urban</td>\n",
       "      <td>191.989194</td>\n",
       "      <td>-13.856017</td>\n",
       "    </tr>\n",
       "    <tr>\n",
       "      <th>363</th>\n",
       "      <td>LP002975</td>\n",
       "      <td>Male</td>\n",
       "      <td>Yes</td>\n",
       "      <td>0</td>\n",
       "      <td>Graduate</td>\n",
       "      <td>No</td>\n",
       "      <td>4158</td>\n",
       "      <td>709</td>\n",
       "      <td>115.0</td>\n",
       "      <td>360.0</td>\n",
       "      <td>1.0</td>\n",
       "      <td>Urban</td>\n",
       "      <td>714.317636</td>\n",
       "      <td>-26.726721</td>\n",
       "    </tr>\n",
       "    <tr>\n",
       "      <th>364</th>\n",
       "      <td>LP002980</td>\n",
       "      <td>Male</td>\n",
       "      <td>No</td>\n",
       "      <td>0</td>\n",
       "      <td>Graduate</td>\n",
       "      <td>No</td>\n",
       "      <td>3250</td>\n",
       "      <td>1993</td>\n",
       "      <td>126.0</td>\n",
       "      <td>360.0</td>\n",
       "      <td>NaN</td>\n",
       "      <td>Semiurban</td>\n",
       "      <td>101.729747</td>\n",
       "      <td>10.086117</td>\n",
       "    </tr>\n",
       "    <tr>\n",
       "      <th>365</th>\n",
       "      <td>LP002986</td>\n",
       "      <td>Male</td>\n",
       "      <td>Yes</td>\n",
       "      <td>0</td>\n",
       "      <td>Graduate</td>\n",
       "      <td>No</td>\n",
       "      <td>5000</td>\n",
       "      <td>2393</td>\n",
       "      <td>158.0</td>\n",
       "      <td>360.0</td>\n",
       "      <td>1.0</td>\n",
       "      <td>Rural</td>\n",
       "      <td>36.776973</td>\n",
       "      <td>6.064402</td>\n",
       "    </tr>\n",
       "    <tr>\n",
       "      <th>366</th>\n",
       "      <td>LP002989</td>\n",
       "      <td>Male</td>\n",
       "      <td>No</td>\n",
       "      <td>0</td>\n",
       "      <td>Graduate</td>\n",
       "      <td>Yes</td>\n",
       "      <td>9200</td>\n",
       "      <td>0</td>\n",
       "      <td>98.0</td>\n",
       "      <td>180.0</td>\n",
       "      <td>1.0</td>\n",
       "      <td>Rural</td>\n",
       "      <td>3350.361099</td>\n",
       "      <td>-57.882304</td>\n",
       "    </tr>\n",
       "  </tbody>\n",
       "</table>\n",
       "<p>367 rows × 14 columns</p>\n",
       "</div>"
      ],
      "text/plain": [
       "      Loan_ID Gender Married Dependents     Education Self_Employed  \\\n",
       "0    LP001015   Male     Yes          0      Graduate            No   \n",
       "1    LP001022   Male     Yes          1      Graduate            No   \n",
       "2    LP001031   Male     Yes          2      Graduate            No   \n",
       "3    LP001035   Male     Yes          2      Graduate            No   \n",
       "4    LP001051   Male      No          0  Not Graduate            No   \n",
       "..        ...    ...     ...        ...           ...           ...   \n",
       "362  LP002971   Male     Yes         3+  Not Graduate           Yes   \n",
       "363  LP002975   Male     Yes          0      Graduate            No   \n",
       "364  LP002980   Male      No          0      Graduate            No   \n",
       "365  LP002986   Male     Yes          0      Graduate            No   \n",
       "366  LP002989   Male      No          0      Graduate           Yes   \n",
       "\n",
       "     ApplicantIncome  CoapplicantIncome  LoanAmount  Loan_Amount_Term  \\\n",
       "0               5720                  0       110.0             360.0   \n",
       "1               3076               1500       126.0             360.0   \n",
       "2               5000               1800       208.0             360.0   \n",
       "3               2340               2546       100.0             360.0   \n",
       "4               3276                  0        78.0             360.0   \n",
       "..               ...                ...         ...               ...   \n",
       "362             4009               1777       113.0             360.0   \n",
       "363             4158                709       115.0             360.0   \n",
       "364             3250               1993       126.0             360.0   \n",
       "365             5000               2393       158.0             360.0   \n",
       "366             9200                  0        98.0             180.0   \n",
       "\n",
       "     Credit_History Property_Area         res2        res  \n",
       "0               1.0         Urban  1678.081415 -40.964392  \n",
       "1               1.0         Urban    87.007322  -9.327772  \n",
       "2               1.0         Urban  3756.916334  61.293689  \n",
       "3               NaN         Urban   959.454733 -30.975066  \n",
       "4               1.0         Urban   558.327377 -23.628952  \n",
       "..              ...           ...          ...        ...  \n",
       "362             1.0         Urban   191.989194 -13.856017  \n",
       "363             1.0         Urban   714.317636 -26.726721  \n",
       "364             NaN     Semiurban   101.729747  10.086117  \n",
       "365             1.0         Rural    36.776973   6.064402  \n",
       "366             1.0         Rural  3350.361099 -57.882304  \n",
       "\n",
       "[367 rows x 14 columns]"
      ]
     },
     "execution_count": 82,
     "metadata": {},
     "output_type": "execute_result"
    }
   ],
   "source": [
    "df['res2']=model.resid**2\n",
    "df['res']=model.resid\n",
    "df"
   ]
  },
  {
   "cell_type": "code",
   "execution_count": 83,
   "id": "9805a895",
   "metadata": {},
   "outputs": [],
   "source": [
    "model = smf.ols('LoanAmount ~ ApplicantIncome + C(Married) + C(Education) + Property_Area',data = df).fit()"
   ]
  },
  {
   "cell_type": "code",
   "execution_count": 84,
   "id": "0a942911",
   "metadata": {},
   "outputs": [],
   "source": [
    "submodel = smf.ols('res2 ~ ApplicantIncome + C(Married) + C(Education) + Property_Area',data = df).fit()"
   ]
  },
  {
   "cell_type": "code",
   "execution_count": 85,
   "id": "89932e8b",
   "metadata": {},
   "outputs": [
    {
     "data": {
      "text/plain": [
       "78.24"
      ]
     },
     "execution_count": 85,
     "metadata": {},
     "output_type": "execute_result"
    }
   ],
   "source": [
    "St = np.round(len(df)*submodel.rsquared,2)\n",
    "St"
   ]
  },
  {
   "cell_type": "markdown",
   "id": "6d7eb3b8",
   "metadata": {},
   "source": [
    "$F_{nabl} = 78.24$"
   ]
  },
  {
   "cell_type": "code",
   "execution_count": 86,
   "id": "1bdee117",
   "metadata": {},
   "outputs": [
    {
     "data": {
      "text/plain": [
       "9.49"
      ]
     },
     "execution_count": 86,
     "metadata": {},
     "output_type": "execute_result"
    }
   ],
   "source": [
    "Hi2 = stats.chi2.ppf(1-0.05,4)\n",
    "Hi2.round(2)"
   ]
  },
  {
   "cell_type": "markdown",
   "id": "f898c4ed",
   "metadata": {},
   "source": [
    "$F_{crit} = 9.49$"
   ]
  },
  {
   "cell_type": "markdown",
   "id": "d66b77c8",
   "metadata": {},
   "source": [
    "$F_{nabl} > F_{crit}$, $\\textit{есть основания отвергнуть гипотезу, тест свидетельствует о гетероскедастичности}$"
   ]
  },
  {
   "cell_type": "markdown",
   "id": "f12ef572",
   "metadata": {},
   "source": [
    "# Анализ модели на автокорреляцию ( с помощью  теста Дарбина-Уотсона)"
   ]
  },
  {
   "cell_type": "code",
   "execution_count": 87,
   "id": "5b33dca1",
   "metadata": {},
   "outputs": [
    {
     "data": {
      "text/plain": [
       "1.84"
      ]
     },
     "execution_count": 87,
     "metadata": {},
     "output_type": "execute_result"
    }
   ],
   "source": [
    "from statsmodels.stats.stattools import durbin_watson\n",
    "dw = durbin_watson(model.resid)\n",
    "round(dw,2)"
   ]
  },
  {
   "cell_type": "markdown",
   "id": "518a8f5b",
   "metadata": {},
   "source": [
    "$\\textit{Значение теста Дарбина-Уотсона свидетельствует о том, автокорреляция в остатках слабая (т.к. принимает знаечение меньше 2),соответственно, остатки независимы друг от друга}$"
   ]
  },
  {
   "cell_type": "code",
   "execution_count": null,
   "id": "03ba9888",
   "metadata": {},
   "outputs": [],
   "source": []
  }
 ],
 "metadata": {
  "kernelspec": {
   "display_name": "Python 3 (ipykernel)",
   "language": "python",
   "name": "python3"
  },
  "language_info": {
   "codemirror_mode": {
    "name": "ipython",
    "version": 3
   },
   "file_extension": ".py",
   "mimetype": "text/x-python",
   "name": "python",
   "nbconvert_exporter": "python",
   "pygments_lexer": "ipython3",
   "version": "3.9.13"
  }
 },
 "nbformat": 4,
 "nbformat_minor": 5
}
