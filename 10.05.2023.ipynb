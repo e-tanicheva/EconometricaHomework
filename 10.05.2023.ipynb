{
 "cells": [
  {
   "cell_type": "markdown",
   "id": "2e19bbcd",
   "metadata": {},
   "source": [
    "### LM/BG-тест"
   ]
  },
  {
   "cell_type": "markdown",
   "id": "5db6e286",
   "metadata": {},
   "source": [
    "###  Задача 2.1"
   ]
  },
  {
   "cell_type": "code",
   "execution_count": 79,
   "id": "633a9624",
   "metadata": {},
   "outputs": [],
   "source": [
    "import pandas as pd\n",
    "import numpy as np\n",
    "import statsmodels.formula.api as smf\n",
    "import seaborn as sns\n",
    "import matplotlib.pyplot as plt\n",
    "import scipy.stats as stats\n",
    "import io"
   ]
  },
  {
   "cell_type": "code",
   "execution_count": 32,
   "id": "e1b3d342",
   "metadata": {},
   "outputs": [
    {
     "data": {
      "text/html": [
       "<div>\n",
       "<style scoped>\n",
       "    .dataframe tbody tr th:only-of-type {\n",
       "        vertical-align: middle;\n",
       "    }\n",
       "\n",
       "    .dataframe tbody tr th {\n",
       "        vertical-align: top;\n",
       "    }\n",
       "\n",
       "    .dataframe thead th {\n",
       "        text-align: right;\n",
       "    }\n",
       "</style>\n",
       "<table border=\"1\" class=\"dataframe\">\n",
       "  <thead>\n",
       "    <tr style=\"text-align: right;\">\n",
       "      <th></th>\n",
       "      <th>Unnamed: 0</th>\n",
       "      <th>yd</th>\n",
       "      <th>ce</th>\n",
       "    </tr>\n",
       "  </thead>\n",
       "  <tbody>\n",
       "    <tr>\n",
       "      <th>0</th>\n",
       "      <td>1</td>\n",
       "      <td>59505.0</td>\n",
       "      <td>57168</td>\n",
       "    </tr>\n",
       "    <tr>\n",
       "      <th>1</th>\n",
       "      <td>2</td>\n",
       "      <td>59717.4</td>\n",
       "      <td>55464</td>\n",
       "    </tr>\n",
       "    <tr>\n",
       "      <th>2</th>\n",
       "      <td>3</td>\n",
       "      <td>59039.1</td>\n",
       "      <td>56332</td>\n",
       "    </tr>\n",
       "    <tr>\n",
       "      <th>3</th>\n",
       "      <td>4</td>\n",
       "      <td>61342.6</td>\n",
       "      <td>55836</td>\n",
       "    </tr>\n",
       "    <tr>\n",
       "      <th>4</th>\n",
       "      <td>5</td>\n",
       "      <td>60544.6</td>\n",
       "      <td>54488</td>\n",
       "    </tr>\n",
       "    <tr>\n",
       "      <th>...</th>\n",
       "      <td>...</td>\n",
       "      <td>...</td>\n",
       "      <td>...</td>\n",
       "    </tr>\n",
       "    <tr>\n",
       "      <th>195</th>\n",
       "      <td>196</td>\n",
       "      <td>390576.6</td>\n",
       "      <td>359372</td>\n",
       "    </tr>\n",
       "    <tr>\n",
       "      <th>196</th>\n",
       "      <td>197</td>\n",
       "      <td>391381.5</td>\n",
       "      <td>363896</td>\n",
       "    </tr>\n",
       "    <tr>\n",
       "      <th>197</th>\n",
       "      <td>198</td>\n",
       "      <td>389502.6</td>\n",
       "      <td>364428</td>\n",
       "    </tr>\n",
       "    <tr>\n",
       "      <th>198</th>\n",
       "      <td>199</td>\n",
       "      <td>388282.1</td>\n",
       "      <td>366224</td>\n",
       "    </tr>\n",
       "    <tr>\n",
       "      <th>199</th>\n",
       "      <td>200</td>\n",
       "      <td>388804.1</td>\n",
       "      <td>371236</td>\n",
       "    </tr>\n",
       "  </tbody>\n",
       "</table>\n",
       "<p>200 rows × 3 columns</p>\n",
       "</div>"
      ],
      "text/plain": [
       "     Unnamed: 0        yd      ce\n",
       "0             1   59505.0   57168\n",
       "1             2   59717.4   55464\n",
       "2             3   59039.1   56332\n",
       "3             4   61342.6   55836\n",
       "4             5   60544.6   54488\n",
       "..          ...       ...     ...\n",
       "195         196  390576.6  359372\n",
       "196         197  391381.5  363896\n",
       "197         198  389502.6  364428\n",
       "198         199  388282.1  366224\n",
       "199         200  388804.1  371236\n",
       "\n",
       "[200 rows x 3 columns]"
      ]
     },
     "execution_count": 32,
     "metadata": {},
     "output_type": "execute_result"
    }
   ],
   "source": [
    "df = pd.read_csv('https://raw.githubusercontent.com/e-tanicheva/Econometrica/master/python-notebooks/data-csv/Consumption.csv')\n",
    "df"
   ]
  },
  {
   "cell_type": "code",
   "execution_count": 33,
   "id": "5a9b801a",
   "metadata": {},
   "outputs": [
    {
     "data": {
      "text/html": [
       "<div>\n",
       "<style scoped>\n",
       "    .dataframe tbody tr th:only-of-type {\n",
       "        vertical-align: middle;\n",
       "    }\n",
       "\n",
       "    .dataframe tbody tr th {\n",
       "        vertical-align: top;\n",
       "    }\n",
       "\n",
       "    .dataframe thead th {\n",
       "        text-align: right;\n",
       "    }\n",
       "</style>\n",
       "<table border=\"1\" class=\"dataframe\">\n",
       "  <thead>\n",
       "    <tr style=\"text-align: right;\">\n",
       "      <th></th>\n",
       "      <th>Unnamed: 0</th>\n",
       "      <th>yd</th>\n",
       "      <th>ce</th>\n",
       "      <th>log_yd</th>\n",
       "      <th>log_ce</th>\n",
       "    </tr>\n",
       "  </thead>\n",
       "  <tbody>\n",
       "    <tr>\n",
       "      <th>0</th>\n",
       "      <td>NaN</td>\n",
       "      <td>NaN</td>\n",
       "      <td>NaN</td>\n",
       "      <td>NaN</td>\n",
       "      <td>NaN</td>\n",
       "    </tr>\n",
       "    <tr>\n",
       "      <th>1</th>\n",
       "      <td>1.0</td>\n",
       "      <td>212.4</td>\n",
       "      <td>-1704.0</td>\n",
       "      <td>0.003563</td>\n",
       "      <td>-0.030260</td>\n",
       "    </tr>\n",
       "    <tr>\n",
       "      <th>2</th>\n",
       "      <td>1.0</td>\n",
       "      <td>-678.3</td>\n",
       "      <td>868.0</td>\n",
       "      <td>-0.011423</td>\n",
       "      <td>0.015529</td>\n",
       "    </tr>\n",
       "    <tr>\n",
       "      <th>3</th>\n",
       "      <td>1.0</td>\n",
       "      <td>2303.5</td>\n",
       "      <td>-496.0</td>\n",
       "      <td>0.038275</td>\n",
       "      <td>-0.008844</td>\n",
       "    </tr>\n",
       "    <tr>\n",
       "      <th>4</th>\n",
       "      <td>1.0</td>\n",
       "      <td>-798.0</td>\n",
       "      <td>-1348.0</td>\n",
       "      <td>-0.013094</td>\n",
       "      <td>-0.024438</td>\n",
       "    </tr>\n",
       "    <tr>\n",
       "      <th>...</th>\n",
       "      <td>...</td>\n",
       "      <td>...</td>\n",
       "      <td>...</td>\n",
       "      <td>...</td>\n",
       "      <td>...</td>\n",
       "    </tr>\n",
       "    <tr>\n",
       "      <th>195</th>\n",
       "      <td>1.0</td>\n",
       "      <td>2336.8</td>\n",
       "      <td>24.0</td>\n",
       "      <td>0.006001</td>\n",
       "      <td>0.000067</td>\n",
       "    </tr>\n",
       "    <tr>\n",
       "      <th>196</th>\n",
       "      <td>1.0</td>\n",
       "      <td>804.9</td>\n",
       "      <td>4524.0</td>\n",
       "      <td>0.002059</td>\n",
       "      <td>0.012510</td>\n",
       "    </tr>\n",
       "    <tr>\n",
       "      <th>197</th>\n",
       "      <td>1.0</td>\n",
       "      <td>-1878.9</td>\n",
       "      <td>532.0</td>\n",
       "      <td>-0.004812</td>\n",
       "      <td>0.001461</td>\n",
       "    </tr>\n",
       "    <tr>\n",
       "      <th>198</th>\n",
       "      <td>1.0</td>\n",
       "      <td>-1220.5</td>\n",
       "      <td>1796.0</td>\n",
       "      <td>-0.003138</td>\n",
       "      <td>0.004916</td>\n",
       "    </tr>\n",
       "    <tr>\n",
       "      <th>199</th>\n",
       "      <td>1.0</td>\n",
       "      <td>522.0</td>\n",
       "      <td>5012.0</td>\n",
       "      <td>0.001343</td>\n",
       "      <td>0.013593</td>\n",
       "    </tr>\n",
       "  </tbody>\n",
       "</table>\n",
       "<p>200 rows × 5 columns</p>\n",
       "</div>"
      ],
      "text/plain": [
       "     Unnamed: 0      yd      ce    log_yd    log_ce\n",
       "0           NaN     NaN     NaN       NaN       NaN\n",
       "1           1.0   212.4 -1704.0  0.003563 -0.030260\n",
       "2           1.0  -678.3   868.0 -0.011423  0.015529\n",
       "3           1.0  2303.5  -496.0  0.038275 -0.008844\n",
       "4           1.0  -798.0 -1348.0 -0.013094 -0.024438\n",
       "..          ...     ...     ...       ...       ...\n",
       "195         1.0  2336.8    24.0  0.006001  0.000067\n",
       "196         1.0   804.9  4524.0  0.002059  0.012510\n",
       "197         1.0 -1878.9   532.0 -0.004812  0.001461\n",
       "198         1.0 -1220.5  1796.0 -0.003138  0.004916\n",
       "199         1.0   522.0  5012.0  0.001343  0.013593\n",
       "\n",
       "[200 rows x 5 columns]"
      ]
     },
     "execution_count": 33,
     "metadata": {},
     "output_type": "execute_result"
    }
   ],
   "source": [
    "df['log_yd'] = np.log(df['yd'])\n",
    "df['log_ce'] = np.log(df['ce'])\n",
    "df.diff() #разность изменения одного столбца с другим, следующее измерение минус предыдущее"
   ]
  },
  {
   "cell_type": "code",
   "execution_count": 34,
   "id": "f7fa4b9c",
   "metadata": {},
   "outputs": [
    {
     "data": {
      "text/plain": [
       "Intercept    0.01\n",
       "log_ce       0.37\n",
       "dtype: float64"
      ]
     },
     "execution_count": 34,
     "metadata": {},
     "output_type": "execute_result"
    }
   ],
   "source": [
    "mdl = smf.ols(data = df.diff(), formula = 'log_yd~log_ce').fit()\n",
    "mdl.params.round(2)"
   ]
  },
  {
   "cell_type": "code",
   "execution_count": 41,
   "id": "fafaeacb",
   "metadata": {},
   "outputs": [
    {
     "data": {
      "text/plain": [
       "<bound method Series.reset_index of 1      0.008827\n",
       "2     -0.023126\n",
       "3      0.035603\n",
       "4     -0.009987\n",
       "5     -0.004025\n",
       "         ...   \n",
       "195    0.000028\n",
       "196   -0.008526\n",
       "197   -0.011302\n",
       "198   -0.010909\n",
       "199   -0.009642\n",
       "Length: 199, dtype: float64>"
      ]
     },
     "execution_count": 41,
     "metadata": {},
     "output_type": "execute_result"
    }
   ],
   "source": [
    "res0 = mdl.resid #первые остатки, столбец pandas\n",
    "res0.reset_index"
   ]
  },
  {
   "cell_type": "code",
   "execution_count": 42,
   "id": "9ed18f23",
   "metadata": {},
   "outputs": [
    {
     "data": {
      "text/plain": [
       "0     -0.023126\n",
       "1      0.035603\n",
       "2     -0.009987\n",
       "3     -0.004025\n",
       "4      0.019736\n",
       "         ...   \n",
       "193    0.000028\n",
       "194   -0.008526\n",
       "195   -0.011302\n",
       "196   -0.010909\n",
       "197   -0.009642\n",
       "Length: 198, dtype: float64"
      ]
     },
     "execution_count": 42,
     "metadata": {},
     "output_type": "execute_result"
    }
   ],
   "source": [
    "res1 = res0.drop(labels =[1], axis = 0 ) #labels =[1], удаляем строку 1 из серии res0\n",
    "res1.reset_index(drop=True)"
   ]
  },
  {
   "cell_type": "code",
   "execution_count": 43,
   "id": "08c300cb",
   "metadata": {},
   "outputs": [
    {
     "data": {
      "text/plain": [
       "0      0.035603\n",
       "1     -0.009987\n",
       "2     -0.004025\n",
       "3      0.019736\n",
       "4     -0.020565\n",
       "         ...   \n",
       "192    0.000028\n",
       "193   -0.008526\n",
       "194   -0.011302\n",
       "195   -0.010909\n",
       "196   -0.009642\n",
       "Length: 197, dtype: float64"
      ]
     },
     "execution_count": 43,
     "metadata": {},
     "output_type": "execute_result"
    }
   ],
   "source": [
    "res2 = res1.drop(labels = [2], axis = 0) #axis = 0, работаем со строкой, =1 - раюотаем со столбцом\n",
    "res2.reset_index(drop=True)"
   ]
  },
  {
   "cell_type": "code",
   "execution_count": 44,
   "id": "d728322e",
   "metadata": {},
   "outputs": [
    {
     "data": {
      "text/plain": [
       "0     -0.009987\n",
       "1     -0.004025\n",
       "2      0.019736\n",
       "3     -0.020565\n",
       "4     -0.000112\n",
       "         ...   \n",
       "191    0.000028\n",
       "192   -0.008526\n",
       "193   -0.011302\n",
       "194   -0.010909\n",
       "195   -0.009642\n",
       "Length: 196, dtype: float64"
      ]
     },
     "execution_count": 44,
     "metadata": {},
     "output_type": "execute_result"
    }
   ],
   "source": [
    "res3 = res2.drop(labels = [3], axis = 0)\n",
    "res3.reset_index(drop=True)"
   ]
  },
  {
   "cell_type": "code",
   "execution_count": 58,
   "id": "2f44260c",
   "metadata": {
    "scrolled": true
   },
   "outputs": [
    {
     "data": {
      "text/html": [
       "<div>\n",
       "<style scoped>\n",
       "    .dataframe tbody tr th:only-of-type {\n",
       "        vertical-align: middle;\n",
       "    }\n",
       "\n",
       "    .dataframe tbody tr th {\n",
       "        vertical-align: top;\n",
       "    }\n",
       "\n",
       "    .dataframe thead th {\n",
       "        text-align: right;\n",
       "    }\n",
       "</style>\n",
       "<table border=\"1\" class=\"dataframe\">\n",
       "  <thead>\n",
       "    <tr style=\"text-align: right;\">\n",
       "      <th></th>\n",
       "      <th>Unnamed: 0</th>\n",
       "      <th>yd</th>\n",
       "      <th>ce</th>\n",
       "      <th>log_yd</th>\n",
       "      <th>log_ce</th>\n",
       "      <th>res0</th>\n",
       "      <th>res1</th>\n",
       "      <th>res2</th>\n",
       "      <th>res3</th>\n",
       "    </tr>\n",
       "  </thead>\n",
       "  <tbody>\n",
       "    <tr>\n",
       "      <th>0</th>\n",
       "      <td>1</td>\n",
       "      <td>59505.0</td>\n",
       "      <td>57168</td>\n",
       "      <td>10.993816</td>\n",
       "      <td>10.953750</td>\n",
       "      <td>0.008827</td>\n",
       "      <td>-0.023126</td>\n",
       "      <td>0.035603</td>\n",
       "      <td>-0.009987</td>\n",
       "    </tr>\n",
       "    <tr>\n",
       "      <th>1</th>\n",
       "      <td>2</td>\n",
       "      <td>59717.4</td>\n",
       "      <td>55464</td>\n",
       "      <td>10.997379</td>\n",
       "      <td>10.923489</td>\n",
       "      <td>-0.023126</td>\n",
       "      <td>0.035603</td>\n",
       "      <td>-0.009987</td>\n",
       "      <td>-0.004025</td>\n",
       "    </tr>\n",
       "    <tr>\n",
       "      <th>2</th>\n",
       "      <td>3</td>\n",
       "      <td>59039.1</td>\n",
       "      <td>56332</td>\n",
       "      <td>10.985955</td>\n",
       "      <td>10.939018</td>\n",
       "      <td>0.035603</td>\n",
       "      <td>-0.009987</td>\n",
       "      <td>-0.004025</td>\n",
       "      <td>0.019736</td>\n",
       "    </tr>\n",
       "    <tr>\n",
       "      <th>3</th>\n",
       "      <td>4</td>\n",
       "      <td>61342.6</td>\n",
       "      <td>55836</td>\n",
       "      <td>11.024230</td>\n",
       "      <td>10.930174</td>\n",
       "      <td>-0.009987</td>\n",
       "      <td>-0.004025</td>\n",
       "      <td>0.019736</td>\n",
       "      <td>-0.020565</td>\n",
       "    </tr>\n",
       "    <tr>\n",
       "      <th>4</th>\n",
       "      <td>5</td>\n",
       "      <td>60544.6</td>\n",
       "      <td>54488</td>\n",
       "      <td>11.011136</td>\n",
       "      <td>10.905736</td>\n",
       "      <td>-0.004025</td>\n",
       "      <td>0.019736</td>\n",
       "      <td>-0.020565</td>\n",
       "      <td>-0.000112</td>\n",
       "    </tr>\n",
       "    <tr>\n",
       "      <th>...</th>\n",
       "      <td>...</td>\n",
       "      <td>...</td>\n",
       "      <td>...</td>\n",
       "      <td>...</td>\n",
       "      <td>...</td>\n",
       "      <td>...</td>\n",
       "      <td>...</td>\n",
       "      <td>...</td>\n",
       "      <td>...</td>\n",
       "    </tr>\n",
       "    <tr>\n",
       "      <th>195</th>\n",
       "      <td>196</td>\n",
       "      <td>390576.6</td>\n",
       "      <td>359372</td>\n",
       "      <td>12.875379</td>\n",
       "      <td>12.792113</td>\n",
       "      <td>-0.008526</td>\n",
       "      <td>-0.011302</td>\n",
       "      <td>-0.010909</td>\n",
       "      <td>-0.009642</td>\n",
       "    </tr>\n",
       "    <tr>\n",
       "      <th>196</th>\n",
       "      <td>197</td>\n",
       "      <td>391381.5</td>\n",
       "      <td>363896</td>\n",
       "      <td>12.877438</td>\n",
       "      <td>12.804623</td>\n",
       "      <td>-0.011302</td>\n",
       "      <td>-0.010909</td>\n",
       "      <td>-0.009642</td>\n",
       "      <td>NaN</td>\n",
       "    </tr>\n",
       "    <tr>\n",
       "      <th>197</th>\n",
       "      <td>198</td>\n",
       "      <td>389502.6</td>\n",
       "      <td>364428</td>\n",
       "      <td>12.872626</td>\n",
       "      <td>12.806084</td>\n",
       "      <td>-0.010909</td>\n",
       "      <td>-0.009642</td>\n",
       "      <td>NaN</td>\n",
       "      <td>NaN</td>\n",
       "    </tr>\n",
       "    <tr>\n",
       "      <th>198</th>\n",
       "      <td>199</td>\n",
       "      <td>388282.1</td>\n",
       "      <td>366224</td>\n",
       "      <td>12.869487</td>\n",
       "      <td>12.811000</td>\n",
       "      <td>-0.009642</td>\n",
       "      <td>NaN</td>\n",
       "      <td>NaN</td>\n",
       "      <td>NaN</td>\n",
       "    </tr>\n",
       "    <tr>\n",
       "      <th>199</th>\n",
       "      <td>200</td>\n",
       "      <td>388804.1</td>\n",
       "      <td>371236</td>\n",
       "      <td>12.870831</td>\n",
       "      <td>12.824593</td>\n",
       "      <td>NaN</td>\n",
       "      <td>NaN</td>\n",
       "      <td>NaN</td>\n",
       "      <td>NaN</td>\n",
       "    </tr>\n",
       "  </tbody>\n",
       "</table>\n",
       "<p>200 rows × 9 columns</p>\n",
       "</div>"
      ],
      "text/plain": [
       "     Unnamed: 0        yd      ce     log_yd     log_ce      res0      res1  \\\n",
       "0             1   59505.0   57168  10.993816  10.953750  0.008827 -0.023126   \n",
       "1             2   59717.4   55464  10.997379  10.923489 -0.023126  0.035603   \n",
       "2             3   59039.1   56332  10.985955  10.939018  0.035603 -0.009987   \n",
       "3             4   61342.6   55836  11.024230  10.930174 -0.009987 -0.004025   \n",
       "4             5   60544.6   54488  11.011136  10.905736 -0.004025  0.019736   \n",
       "..          ...       ...     ...        ...        ...       ...       ...   \n",
       "195         196  390576.6  359372  12.875379  12.792113 -0.008526 -0.011302   \n",
       "196         197  391381.5  363896  12.877438  12.804623 -0.011302 -0.010909   \n",
       "197         198  389502.6  364428  12.872626  12.806084 -0.010909 -0.009642   \n",
       "198         199  388282.1  366224  12.869487  12.811000 -0.009642       NaN   \n",
       "199         200  388804.1  371236  12.870831  12.824593       NaN       NaN   \n",
       "\n",
       "         res2      res3  \n",
       "0    0.035603 -0.009987  \n",
       "1   -0.009987 -0.004025  \n",
       "2   -0.004025  0.019736  \n",
       "3    0.019736 -0.020565  \n",
       "4   -0.020565 -0.000112  \n",
       "..        ...       ...  \n",
       "195 -0.010909 -0.009642  \n",
       "196 -0.009642       NaN  \n",
       "197       NaN       NaN  \n",
       "198       NaN       NaN  \n",
       "199       NaN       NaN  \n",
       "\n",
       "[200 rows x 9 columns]"
      ]
     },
     "execution_count": 58,
     "metadata": {},
     "output_type": "execute_result"
    }
   ],
   "source": [
    "df['res0']=res0.reset_index(drop=True)\n",
    "df['res1']=res1.reset_index(drop=True)\n",
    "df['res2']=res2.reset_index(drop=True)\n",
    "df['res3']=res3.reset_index(drop=True)\n",
    "df"
   ]
  },
  {
   "cell_type": "code",
   "execution_count": 62,
   "id": "f3448217",
   "metadata": {},
   "outputs": [
    {
     "data": {
      "text/plain": [
       "0.10802079408577325"
      ]
     },
     "execution_count": 62,
     "metadata": {},
     "output_type": "execute_result"
    }
   ],
   "source": [
    "sub_mdl = smf.ols(data = df.dropna(), formula = 'res0~res1+res2+res3+log_ce.diff()').fit()\n",
    "sub_mdl.rsquared"
   ]
  },
  {
   "cell_type": "code",
   "execution_count": 63,
   "id": "4e84e44c",
   "metadata": {},
   "outputs": [
    {
     "data": {
      "text/plain": [
       "21.28009643489733"
      ]
     },
     "execution_count": 63,
     "metadata": {},
     "output_type": "execute_result"
    }
   ],
   "source": [
    "sub_mdl.rsquared*(len(df)-3)"
   ]
  },
  {
   "cell_type": "code",
   "execution_count": 64,
   "id": "bcdaae3f",
   "metadata": {},
   "outputs": [
    {
     "data": {
      "text/plain": [
       "11.344866730144373"
      ]
     },
     "execution_count": 64,
     "metadata": {},
     "output_type": "execute_result"
    }
   ],
   "source": [
    "Hi2 = stats.chi2.ppf(1-0.01,3)\n",
    "Hi2"
   ]
  },
  {
   "cell_type": "markdown",
   "id": "1ab74ac1",
   "metadata": {},
   "source": [
    "### Задача 3.1 Лист 11"
   ]
  },
  {
   "cell_type": "code",
   "execution_count": 72,
   "id": "9847e116",
   "metadata": {},
   "outputs": [],
   "source": [
    "df_ice = pd.read_csv('https://raw.githubusercontent.com/e-tanicheva/Econometrica/master/python-notebooks/data-csv/icecream.csv')"
   ]
  },
  {
   "cell_type": "code",
   "execution_count": 75,
   "id": "26bf9439",
   "metadata": {},
   "outputs": [],
   "source": [
    "model = smf.ols(data=df_ice, formula='cons~income+price+temp').fit(cov_type='HC3')"
   ]
  },
  {
   "cell_type": "code",
   "execution_count": 74,
   "id": "033d01ca",
   "metadata": {},
   "outputs": [
    {
     "data": {
      "text/html": [
       "<table class=\"simpletable\">\n",
       "<tr>\n",
       "      <td></td>         <th>coef</th>     <th>std err</th>      <th>z</th>      <th>P>|z|</th>  <th>[0.025</th>    <th>0.975]</th>  \n",
       "</tr>\n",
       "<tr>\n",
       "  <th>Intercept</th> <td>    0.1973</td> <td>    0.318</td> <td>    0.620</td> <td> 0.535</td> <td>   -0.426</td> <td>    0.821</td>\n",
       "</tr>\n",
       "<tr>\n",
       "  <th>income</th>    <td>    0.0033</td> <td>    0.001</td> <td>    2.573</td> <td> 0.010</td> <td>    0.001</td> <td>    0.006</td>\n",
       "</tr>\n",
       "<tr>\n",
       "  <th>price</th>     <td>   -1.0444</td> <td>    1.010</td> <td>   -1.034</td> <td> 0.301</td> <td>   -3.024</td> <td>    0.935</td>\n",
       "</tr>\n",
       "<tr>\n",
       "  <th>temp</th>      <td>    0.0035</td> <td>    0.001</td> <td>    6.866</td> <td> 0.000</td> <td>    0.002</td> <td>    0.004</td>\n",
       "</tr>\n",
       "</table>"
      ],
      "text/plain": [
       "<class 'statsmodels.iolib.table.SimpleTable'>"
      ]
     },
     "execution_count": 74,
     "metadata": {},
     "output_type": "execute_result"
    }
   ],
   "source": [
    "# \n",
    "model.summary().tables[1]"
   ]
  },
  {
   "cell_type": "code",
   "execution_count": 77,
   "id": "520a115e",
   "metadata": {},
   "outputs": [],
   "source": [
    "data_string = '''coef\tstd_err\n",
    "Intercept\t0.1973\t0.318\t\n",
    "income\t0.0033\t0.001\t\n",
    "price\t-1.0444\t1.010\t\n",
    "temp\t0.0035\t0.001'''"
   ]
  },
  {
   "cell_type": "code",
   "execution_count": 80,
   "id": "6ce2b9d2",
   "metadata": {},
   "outputs": [
    {
     "data": {
      "text/html": [
       "<div>\n",
       "<style scoped>\n",
       "    .dataframe tbody tr th:only-of-type {\n",
       "        vertical-align: middle;\n",
       "    }\n",
       "\n",
       "    .dataframe tbody tr th {\n",
       "        vertical-align: top;\n",
       "    }\n",
       "\n",
       "    .dataframe thead th {\n",
       "        text-align: right;\n",
       "    }\n",
       "</style>\n",
       "<table border=\"1\" class=\"dataframe\">\n",
       "  <thead>\n",
       "    <tr style=\"text-align: right;\">\n",
       "      <th></th>\n",
       "      <th>coef</th>\n",
       "      <th>std_err</th>\n",
       "    </tr>\n",
       "  </thead>\n",
       "  <tbody>\n",
       "    <tr>\n",
       "      <th>Intercept</th>\n",
       "      <td>0.1973</td>\n",
       "      <td>0.318</td>\n",
       "    </tr>\n",
       "    <tr>\n",
       "      <th>income</th>\n",
       "      <td>0.0033</td>\n",
       "      <td>0.001</td>\n",
       "    </tr>\n",
       "    <tr>\n",
       "      <th>price</th>\n",
       "      <td>-1.0444</td>\n",
       "      <td>1.010</td>\n",
       "    </tr>\n",
       "    <tr>\n",
       "      <th>temp</th>\n",
       "      <td>0.0035</td>\n",
       "      <td>0.001</td>\n",
       "    </tr>\n",
       "  </tbody>\n",
       "</table>\n",
       "</div>"
      ],
      "text/plain": [
       "             coef  std_err\n",
       "Intercept  0.1973    0.318\n",
       "income     0.0033    0.001\n",
       "price     -1.0444    1.010\n",
       "temp       0.0035    0.001"
      ]
     },
     "execution_count": 80,
     "metadata": {},
     "output_type": "execute_result"
    }
   ],
   "source": [
    "df = pd.read_csv(io.StringIO(data_string), sep='\\s+')\n",
    "df"
   ]
  },
  {
   "cell_type": "code",
   "execution_count": 88,
   "id": "b3a1a39d",
   "metadata": {},
   "outputs": [
    {
     "data": {
      "text/html": [
       "<div>\n",
       "<style scoped>\n",
       "    .dataframe tbody tr th:only-of-type {\n",
       "        vertical-align: middle;\n",
       "    }\n",
       "\n",
       "    .dataframe tbody tr th {\n",
       "        vertical-align: top;\n",
       "    }\n",
       "\n",
       "    .dataframe thead th {\n",
       "        text-align: right;\n",
       "    }\n",
       "</style>\n",
       "<table border=\"1\" class=\"dataframe\">\n",
       "  <thead>\n",
       "    <tr style=\"text-align: right;\">\n",
       "      <th></th>\n",
       "      <th>coef</th>\n",
       "      <th>std_err</th>\n",
       "      <th>t_nabluedaemoe</th>\n",
       "      <th>Znachimosty</th>\n",
       "    </tr>\n",
       "  </thead>\n",
       "  <tbody>\n",
       "    <tr>\n",
       "      <th>Intercept</th>\n",
       "      <td>0.1973</td>\n",
       "      <td>0.318</td>\n",
       "      <td>0.620440</td>\n",
       "      <td>ne znachim</td>\n",
       "    </tr>\n",
       "    <tr>\n",
       "      <th>income</th>\n",
       "      <td>0.0033</td>\n",
       "      <td>0.001</td>\n",
       "      <td>3.300000</td>\n",
       "      <td>znachim</td>\n",
       "    </tr>\n",
       "    <tr>\n",
       "      <th>price</th>\n",
       "      <td>-1.0444</td>\n",
       "      <td>1.010</td>\n",
       "      <td>-1.034059</td>\n",
       "      <td>ne znachim</td>\n",
       "    </tr>\n",
       "    <tr>\n",
       "      <th>temp</th>\n",
       "      <td>0.0035</td>\n",
       "      <td>0.001</td>\n",
       "      <td>3.500000</td>\n",
       "      <td>znachim</td>\n",
       "    </tr>\n",
       "  </tbody>\n",
       "</table>\n",
       "</div>"
      ],
      "text/plain": [
       "             coef  std_err  t_nabluedaemoe Znachimosty\n",
       "Intercept  0.1973    0.318        0.620440  ne znachim\n",
       "income     0.0033    0.001        3.300000     znachim\n",
       "price     -1.0444    1.010       -1.034059  ne znachim\n",
       "temp       0.0035    0.001        3.500000     znachim"
      ]
     },
     "execution_count": 88,
     "metadata": {},
     "output_type": "execute_result"
    }
   ],
   "source": [
    "df['t_nabluedaemoe'] = df['coef']/df['std_err']\n",
    "df"
   ]
  },
  {
   "cell_type": "code",
   "execution_count": 93,
   "id": "3be71b61",
   "metadata": {},
   "outputs": [
    {
     "data": {
      "text/plain": [
       "2.7787145333289134"
      ]
     },
     "execution_count": 93,
     "metadata": {},
     "output_type": "execute_result"
    }
   ],
   "source": [
    "t_critical = stats.t.ppf(1-0.01/2,30-4)\n",
    "t_critical"
   ]
  },
  {
   "cell_type": "code",
   "execution_count": 94,
   "id": "23f3084c",
   "metadata": {},
   "outputs": [
    {
     "data": {
      "text/html": [
       "<div>\n",
       "<style scoped>\n",
       "    .dataframe tbody tr th:only-of-type {\n",
       "        vertical-align: middle;\n",
       "    }\n",
       "\n",
       "    .dataframe tbody tr th {\n",
       "        vertical-align: top;\n",
       "    }\n",
       "\n",
       "    .dataframe thead th {\n",
       "        text-align: right;\n",
       "    }\n",
       "</style>\n",
       "<table border=\"1\" class=\"dataframe\">\n",
       "  <thead>\n",
       "    <tr style=\"text-align: right;\">\n",
       "      <th></th>\n",
       "      <th>coef</th>\n",
       "      <th>std_err</th>\n",
       "      <th>t_nabluedaemoe</th>\n",
       "      <th>Znachimosty</th>\n",
       "    </tr>\n",
       "  </thead>\n",
       "  <tbody>\n",
       "    <tr>\n",
       "      <th>Intercept</th>\n",
       "      <td>0.1973</td>\n",
       "      <td>0.318</td>\n",
       "      <td>0.620440</td>\n",
       "      <td>ne znachim</td>\n",
       "    </tr>\n",
       "    <tr>\n",
       "      <th>income</th>\n",
       "      <td>0.0033</td>\n",
       "      <td>0.001</td>\n",
       "      <td>3.300000</td>\n",
       "      <td>znachim</td>\n",
       "    </tr>\n",
       "    <tr>\n",
       "      <th>price</th>\n",
       "      <td>-1.0444</td>\n",
       "      <td>1.010</td>\n",
       "      <td>-1.034059</td>\n",
       "      <td>ne znachim</td>\n",
       "    </tr>\n",
       "    <tr>\n",
       "      <th>temp</th>\n",
       "      <td>0.0035</td>\n",
       "      <td>0.001</td>\n",
       "      <td>3.500000</td>\n",
       "      <td>znachim</td>\n",
       "    </tr>\n",
       "  </tbody>\n",
       "</table>\n",
       "</div>"
      ],
      "text/plain": [
       "             coef  std_err  t_nabluedaemoe Znachimosty\n",
       "Intercept  0.1973    0.318        0.620440  ne znachim\n",
       "income     0.0033    0.001        3.300000     znachim\n",
       "price     -1.0444    1.010       -1.034059  ne znachim\n",
       "temp       0.0035    0.001        3.500000     znachim"
      ]
     },
     "execution_count": 94,
     "metadata": {},
     "output_type": "execute_result"
    }
   ],
   "source": [
    "df['Znachimosty'] = df.apply(lambda x: 'znachim' if np.abs(x['t_nabluedaemoe']) >t_critical else 'ne znachim', axis = 1)\n",
    "df"
   ]
  },
  {
   "cell_type": "code",
   "execution_count": null,
   "id": "2b594bbd",
   "metadata": {},
   "outputs": [],
   "source": []
  }
 ],
 "metadata": {
  "kernelspec": {
   "display_name": "Python 3 (ipykernel)",
   "language": "python",
   "name": "python3"
  },
  "language_info": {
   "codemirror_mode": {
    "name": "ipython",
    "version": 3
   },
   "file_extension": ".py",
   "mimetype": "text/x-python",
   "name": "python",
   "nbconvert_exporter": "python",
   "pygments_lexer": "ipython3",
   "version": "3.9.15"
  }
 },
 "nbformat": 4,
 "nbformat_minor": 5
}
